{
 "cells": [
  {
   "cell_type": "markdown",
   "metadata": {},
   "source": [
    "# Project 2: Investigating relations between education, patents, work sector and income over time"
   ]
  },
  {
   "cell_type": "markdown",
   "metadata": {},
   "source": [
    "### The purpose of this project is to investigate the relations between education, patents, work sector and income over a specific period of time, for which we have the data available.\n",
    "\n",
    "### The objective is to support, through data analysis, 4 few theories that I formulated. \n",
    "### In particular:\n",
    ">### 1) Education should have a positive impact on income, as the more knowledgeable people of a specific country are, the more that country should be able to produce prosperity\n",
    ">### 2) The number of patent applications in a country should have a positive impact on its income, due to the increase of its technological level\n",
    ">### 3) Education should have a positive impact in the number of patent applications, as a higher knowledge helps in generating innovative ideas\n",
    ">### 4) Also the main sectors have an impact on the income, as a country being \"service-oriented\" should be a sign that its technology is advanced, as opposite as a country for which the main sector is \"agricultural\" or \"industrial\"\n",
    "\n",
    "#### For the data analysis, I downloaded the following the datasets from the website \"www.gapminder.org\":\n",
    ">##### 'mean_years_in_school_men_25_years_and_older.csv'\n",
    ">##### 'mean_years_in_school_women_25_years_and_older.csv'\n",
    ">##### 'income_per_person_gdppercapita_ppp_inflation_adjusted.csv'\n",
    ">##### 'patent_applications_total.csv'\n",
    ">##### 'population_total.csv'\n",
    ">##### 'agriculture_workers_percent_of_employment.csv'\n",
    ">##### 'industry_workers_percent_of_employment.csv'\n",
    ">##### 'service_workers_percent_of_employment.csv'"
   ]
  },
  {
   "cell_type": "code",
   "execution_count": 1,
   "metadata": {},
   "outputs": [],
   "source": [
    "# import packages that I'm going to use\n",
    "import numpy as np\n",
    "import pandas as pd\n",
    "import matplotlib.pyplot as plt \n",
    "% matplotlib inline\n",
    "import seaborn as sns"
   ]
  },
  {
   "cell_type": "markdown",
   "metadata": {},
   "source": [
    "## Now we are going to wrangle the \"number of years in school\" dataset"
   ]
  },
  {
   "cell_type": "code",
   "execution_count": 2,
   "metadata": {},
   "outputs": [],
   "source": [
    "# import datasets about the number of years in school for men and women 25+ years old, as around this age\n",
    "# we assume the majority of people has terminated its education period\n",
    "\n",
    "ys_edu_M = pd.read_csv('mean_years_in_school_men_25_years_and_older.csv')\n",
    "ys_edu_F = pd.read_csv('mean_years_in_school_women_25_years_and_older.csv')"
   ]
  },
  {
   "cell_type": "markdown",
   "metadata": {},
   "source": [
    "##### Quick look to the datasets"
   ]
  },
  {
   "cell_type": "code",
   "execution_count": 3,
   "metadata": {},
   "outputs": [
    {
     "data": {
      "text/html": [
       "<div>\n",
       "<style scoped>\n",
       "    .dataframe tbody tr th:only-of-type {\n",
       "        vertical-align: middle;\n",
       "    }\n",
       "\n",
       "    .dataframe tbody tr th {\n",
       "        vertical-align: top;\n",
       "    }\n",
       "\n",
       "    .dataframe thead th {\n",
       "        text-align: right;\n",
       "    }\n",
       "</style>\n",
       "<table border=\"1\" class=\"dataframe\">\n",
       "  <thead>\n",
       "    <tr style=\"text-align: right;\">\n",
       "      <th></th>\n",
       "      <th>country</th>\n",
       "      <th>1970</th>\n",
       "      <th>1971</th>\n",
       "      <th>1972</th>\n",
       "      <th>1973</th>\n",
       "      <th>1974</th>\n",
       "      <th>1975</th>\n",
       "      <th>1976</th>\n",
       "      <th>1977</th>\n",
       "      <th>1978</th>\n",
       "      <th>...</th>\n",
       "      <th>2000</th>\n",
       "      <th>2001</th>\n",
       "      <th>2002</th>\n",
       "      <th>2003</th>\n",
       "      <th>2004</th>\n",
       "      <th>2005</th>\n",
       "      <th>2006</th>\n",
       "      <th>2007</th>\n",
       "      <th>2008</th>\n",
       "      <th>2009</th>\n",
       "    </tr>\n",
       "  </thead>\n",
       "  <tbody>\n",
       "    <tr>\n",
       "      <th>0</th>\n",
       "      <td>Afghanistan</td>\n",
       "      <td>0.7</td>\n",
       "      <td>0.7</td>\n",
       "      <td>0.8</td>\n",
       "      <td>0.8</td>\n",
       "      <td>0.8</td>\n",
       "      <td>0.9</td>\n",
       "      <td>0.9</td>\n",
       "      <td>0.9</td>\n",
       "      <td>1.0</td>\n",
       "      <td>...</td>\n",
       "      <td>2.1</td>\n",
       "      <td>2.1</td>\n",
       "      <td>2.2</td>\n",
       "      <td>2.3</td>\n",
       "      <td>2.3</td>\n",
       "      <td>2.4</td>\n",
       "      <td>2.4</td>\n",
       "      <td>2.5</td>\n",
       "      <td>2.6</td>\n",
       "      <td>2.6</td>\n",
       "    </tr>\n",
       "    <tr>\n",
       "      <th>1</th>\n",
       "      <td>Albania</td>\n",
       "      <td>5.1</td>\n",
       "      <td>5.2</td>\n",
       "      <td>5.3</td>\n",
       "      <td>5.5</td>\n",
       "      <td>5.6</td>\n",
       "      <td>5.7</td>\n",
       "      <td>5.9</td>\n",
       "      <td>6.0</td>\n",
       "      <td>6.1</td>\n",
       "      <td>...</td>\n",
       "      <td>9.1</td>\n",
       "      <td>9.2</td>\n",
       "      <td>9.4</td>\n",
       "      <td>9.5</td>\n",
       "      <td>9.6</td>\n",
       "      <td>9.8</td>\n",
       "      <td>9.9</td>\n",
       "      <td>10.0</td>\n",
       "      <td>10.1</td>\n",
       "      <td>10.2</td>\n",
       "    </tr>\n",
       "  </tbody>\n",
       "</table>\n",
       "<p>2 rows × 41 columns</p>\n",
       "</div>"
      ],
      "text/plain": [
       "       country  1970  1971  1972  1973  1974  1975  1976  1977  1978  ...   \\\n",
       "0  Afghanistan   0.7   0.7   0.8   0.8   0.8   0.9   0.9   0.9   1.0  ...    \n",
       "1      Albania   5.1   5.2   5.3   5.5   5.6   5.7   5.9   6.0   6.1  ...    \n",
       "\n",
       "   2000  2001  2002  2003  2004  2005  2006  2007  2008  2009  \n",
       "0   2.1   2.1   2.2   2.3   2.3   2.4   2.4   2.5   2.6   2.6  \n",
       "1   9.1   9.2   9.4   9.5   9.6   9.8   9.9  10.0  10.1  10.2  \n",
       "\n",
       "[2 rows x 41 columns]"
      ]
     },
     "execution_count": 3,
     "metadata": {},
     "output_type": "execute_result"
    }
   ],
   "source": [
    "ys_edu_M.head(2) "
   ]
  },
  {
   "cell_type": "code",
   "execution_count": 4,
   "metadata": {},
   "outputs": [
    {
     "data": {
      "text/plain": [
       "(174, 41)"
      ]
     },
     "execution_count": 4,
     "metadata": {},
     "output_type": "execute_result"
    }
   ],
   "source": [
    "ys_edu_M.shape"
   ]
  },
  {
   "cell_type": "code",
   "execution_count": 5,
   "metadata": {},
   "outputs": [
    {
     "data": {
      "text/html": [
       "<div>\n",
       "<style scoped>\n",
       "    .dataframe tbody tr th:only-of-type {\n",
       "        vertical-align: middle;\n",
       "    }\n",
       "\n",
       "    .dataframe tbody tr th {\n",
       "        vertical-align: top;\n",
       "    }\n",
       "\n",
       "    .dataframe thead th {\n",
       "        text-align: right;\n",
       "    }\n",
       "</style>\n",
       "<table border=\"1\" class=\"dataframe\">\n",
       "  <thead>\n",
       "    <tr style=\"text-align: right;\">\n",
       "      <th></th>\n",
       "      <th>country</th>\n",
       "      <th>1970</th>\n",
       "      <th>1971</th>\n",
       "      <th>1972</th>\n",
       "      <th>1973</th>\n",
       "      <th>1974</th>\n",
       "      <th>1975</th>\n",
       "      <th>1976</th>\n",
       "      <th>1977</th>\n",
       "      <th>1978</th>\n",
       "      <th>...</th>\n",
       "      <th>2000</th>\n",
       "      <th>2001</th>\n",
       "      <th>2002</th>\n",
       "      <th>2003</th>\n",
       "      <th>2004</th>\n",
       "      <th>2005</th>\n",
       "      <th>2006</th>\n",
       "      <th>2007</th>\n",
       "      <th>2008</th>\n",
       "      <th>2009</th>\n",
       "    </tr>\n",
       "  </thead>\n",
       "  <tbody>\n",
       "    <tr>\n",
       "      <th>0</th>\n",
       "      <td>Afghanistan</td>\n",
       "      <td>0.0</td>\n",
       "      <td>0.1</td>\n",
       "      <td>0.1</td>\n",
       "      <td>0.1</td>\n",
       "      <td>0.1</td>\n",
       "      <td>0.1</td>\n",
       "      <td>0.1</td>\n",
       "      <td>0.1</td>\n",
       "      <td>0.1</td>\n",
       "      <td>...</td>\n",
       "      <td>0.2</td>\n",
       "      <td>0.3</td>\n",
       "      <td>0.3</td>\n",
       "      <td>0.3</td>\n",
       "      <td>0.3</td>\n",
       "      <td>0.3</td>\n",
       "      <td>0.3</td>\n",
       "      <td>0.3</td>\n",
       "      <td>0.3</td>\n",
       "      <td>0.4</td>\n",
       "    </tr>\n",
       "    <tr>\n",
       "      <th>1</th>\n",
       "      <td>Albania</td>\n",
       "      <td>3.9</td>\n",
       "      <td>4.0</td>\n",
       "      <td>4.1</td>\n",
       "      <td>4.2</td>\n",
       "      <td>4.3</td>\n",
       "      <td>4.5</td>\n",
       "      <td>4.6</td>\n",
       "      <td>4.7</td>\n",
       "      <td>4.8</td>\n",
       "      <td>...</td>\n",
       "      <td>8.0</td>\n",
       "      <td>8.2</td>\n",
       "      <td>8.3</td>\n",
       "      <td>8.5</td>\n",
       "      <td>8.6</td>\n",
       "      <td>8.8</td>\n",
       "      <td>8.9</td>\n",
       "      <td>9.1</td>\n",
       "      <td>9.2</td>\n",
       "      <td>9.4</td>\n",
       "    </tr>\n",
       "  </tbody>\n",
       "</table>\n",
       "<p>2 rows × 41 columns</p>\n",
       "</div>"
      ],
      "text/plain": [
       "       country  1970  1971  1972  1973  1974  1975  1976  1977  1978  ...   \\\n",
       "0  Afghanistan   0.0   0.1   0.1   0.1   0.1   0.1   0.1   0.1   0.1  ...    \n",
       "1      Albania   3.9   4.0   4.1   4.2   4.3   4.5   4.6   4.7   4.8  ...    \n",
       "\n",
       "   2000  2001  2002  2003  2004  2005  2006  2007  2008  2009  \n",
       "0   0.2   0.3   0.3   0.3   0.3   0.3   0.3   0.3   0.3   0.4  \n",
       "1   8.0   8.2   8.3   8.5   8.6   8.8   8.9   9.1   9.2   9.4  \n",
       "\n",
       "[2 rows x 41 columns]"
      ]
     },
     "execution_count": 5,
     "metadata": {},
     "output_type": "execute_result"
    }
   ],
   "source": [
    "ys_edu_F.head(2)"
   ]
  },
  {
   "cell_type": "code",
   "execution_count": 6,
   "metadata": {},
   "outputs": [
    {
     "data": {
      "text/plain": [
       "(174, 41)"
      ]
     },
     "execution_count": 6,
     "metadata": {},
     "output_type": "execute_result"
    }
   ],
   "source": [
    "ys_edu_F.shape"
   ]
  },
  {
   "cell_type": "markdown",
   "metadata": {},
   "source": [
    "##### Under the assumption that the population is equally divided by gender (50% males and 50% females), I create a dataframe with the average number of years of school, for each country and for each year"
   ]
  },
  {
   "cell_type": "code",
   "execution_count": 7,
   "metadata": {},
   "outputs": [
    {
     "data": {
      "text/html": [
       "<div>\n",
       "<style scoped>\n",
       "    .dataframe tbody tr th:only-of-type {\n",
       "        vertical-align: middle;\n",
       "    }\n",
       "\n",
       "    .dataframe tbody tr th {\n",
       "        vertical-align: top;\n",
       "    }\n",
       "\n",
       "    .dataframe thead th {\n",
       "        text-align: right;\n",
       "    }\n",
       "</style>\n",
       "<table border=\"1\" class=\"dataframe\">\n",
       "  <thead>\n",
       "    <tr style=\"text-align: right;\">\n",
       "      <th></th>\n",
       "      <th>1970</th>\n",
       "      <th>1971</th>\n",
       "      <th>1972</th>\n",
       "      <th>1973</th>\n",
       "      <th>1974</th>\n",
       "      <th>1975</th>\n",
       "      <th>1976</th>\n",
       "      <th>1977</th>\n",
       "      <th>1978</th>\n",
       "      <th>1979</th>\n",
       "      <th>...</th>\n",
       "      <th>2001</th>\n",
       "      <th>2002</th>\n",
       "      <th>2003</th>\n",
       "      <th>2004</th>\n",
       "      <th>2005</th>\n",
       "      <th>2006</th>\n",
       "      <th>2007</th>\n",
       "      <th>2008</th>\n",
       "      <th>2009</th>\n",
       "      <th>country</th>\n",
       "    </tr>\n",
       "  </thead>\n",
       "  <tbody>\n",
       "    <tr>\n",
       "      <th>0</th>\n",
       "      <td>0.35</td>\n",
       "      <td>0.40</td>\n",
       "      <td>0.45</td>\n",
       "      <td>0.45</td>\n",
       "      <td>0.45</td>\n",
       "      <td>0.50</td>\n",
       "      <td>0.50</td>\n",
       "      <td>0.50</td>\n",
       "      <td>0.55</td>\n",
       "      <td>0.55</td>\n",
       "      <td>...</td>\n",
       "      <td>1.20</td>\n",
       "      <td>1.25</td>\n",
       "      <td>1.30</td>\n",
       "      <td>1.30</td>\n",
       "      <td>1.35</td>\n",
       "      <td>1.35</td>\n",
       "      <td>1.40</td>\n",
       "      <td>1.45</td>\n",
       "      <td>1.50</td>\n",
       "      <td>Afghanistan</td>\n",
       "    </tr>\n",
       "    <tr>\n",
       "      <th>1</th>\n",
       "      <td>4.50</td>\n",
       "      <td>4.60</td>\n",
       "      <td>4.70</td>\n",
       "      <td>4.85</td>\n",
       "      <td>4.95</td>\n",
       "      <td>5.10</td>\n",
       "      <td>5.25</td>\n",
       "      <td>5.35</td>\n",
       "      <td>5.45</td>\n",
       "      <td>5.60</td>\n",
       "      <td>...</td>\n",
       "      <td>8.70</td>\n",
       "      <td>8.85</td>\n",
       "      <td>9.00</td>\n",
       "      <td>9.10</td>\n",
       "      <td>9.30</td>\n",
       "      <td>9.40</td>\n",
       "      <td>9.55</td>\n",
       "      <td>9.65</td>\n",
       "      <td>9.80</td>\n",
       "      <td>Albania</td>\n",
       "    </tr>\n",
       "    <tr>\n",
       "      <th>2</th>\n",
       "      <td>0.75</td>\n",
       "      <td>0.75</td>\n",
       "      <td>0.80</td>\n",
       "      <td>0.90</td>\n",
       "      <td>0.90</td>\n",
       "      <td>1.00</td>\n",
       "      <td>1.00</td>\n",
       "      <td>1.10</td>\n",
       "      <td>1.15</td>\n",
       "      <td>1.20</td>\n",
       "      <td>...</td>\n",
       "      <td>3.45</td>\n",
       "      <td>3.55</td>\n",
       "      <td>3.70</td>\n",
       "      <td>3.80</td>\n",
       "      <td>3.95</td>\n",
       "      <td>4.10</td>\n",
       "      <td>4.20</td>\n",
       "      <td>4.30</td>\n",
       "      <td>4.45</td>\n",
       "      <td>Algeria</td>\n",
       "    </tr>\n",
       "    <tr>\n",
       "      <th>3</th>\n",
       "      <td>0.95</td>\n",
       "      <td>1.00</td>\n",
       "      <td>1.00</td>\n",
       "      <td>1.05</td>\n",
       "      <td>1.15</td>\n",
       "      <td>1.15</td>\n",
       "      <td>1.20</td>\n",
       "      <td>1.30</td>\n",
       "      <td>1.35</td>\n",
       "      <td>1.35</td>\n",
       "      <td>...</td>\n",
       "      <td>3.05</td>\n",
       "      <td>3.20</td>\n",
       "      <td>3.30</td>\n",
       "      <td>3.40</td>\n",
       "      <td>3.50</td>\n",
       "      <td>3.60</td>\n",
       "      <td>3.75</td>\n",
       "      <td>3.85</td>\n",
       "      <td>3.95</td>\n",
       "      <td>Angola</td>\n",
       "    </tr>\n",
       "    <tr>\n",
       "      <th>4</th>\n",
       "      <td>7.00</td>\n",
       "      <td>7.10</td>\n",
       "      <td>7.20</td>\n",
       "      <td>7.40</td>\n",
       "      <td>7.50</td>\n",
       "      <td>7.65</td>\n",
       "      <td>7.80</td>\n",
       "      <td>7.95</td>\n",
       "      <td>8.10</td>\n",
       "      <td>8.25</td>\n",
       "      <td>...</td>\n",
       "      <td>11.25</td>\n",
       "      <td>11.35</td>\n",
       "      <td>11.45</td>\n",
       "      <td>11.55</td>\n",
       "      <td>11.65</td>\n",
       "      <td>11.70</td>\n",
       "      <td>11.80</td>\n",
       "      <td>11.90</td>\n",
       "      <td>12.00</td>\n",
       "      <td>Antigua and Barbuda</td>\n",
       "    </tr>\n",
       "  </tbody>\n",
       "</table>\n",
       "<p>5 rows × 41 columns</p>\n",
       "</div>"
      ],
      "text/plain": [
       "   1970  1971  1972  1973  1974  1975  1976  1977  1978  1979  \\\n",
       "0  0.35  0.40  0.45  0.45  0.45  0.50  0.50  0.50  0.55  0.55   \n",
       "1  4.50  4.60  4.70  4.85  4.95  5.10  5.25  5.35  5.45  5.60   \n",
       "2  0.75  0.75  0.80  0.90  0.90  1.00  1.00  1.10  1.15  1.20   \n",
       "3  0.95  1.00  1.00  1.05  1.15  1.15  1.20  1.30  1.35  1.35   \n",
       "4  7.00  7.10  7.20  7.40  7.50  7.65  7.80  7.95  8.10  8.25   \n",
       "\n",
       "          ...            2001   2002   2003   2004   2005   2006   2007  \\\n",
       "0         ...            1.20   1.25   1.30   1.30   1.35   1.35   1.40   \n",
       "1         ...            8.70   8.85   9.00   9.10   9.30   9.40   9.55   \n",
       "2         ...            3.45   3.55   3.70   3.80   3.95   4.10   4.20   \n",
       "3         ...            3.05   3.20   3.30   3.40   3.50   3.60   3.75   \n",
       "4         ...           11.25  11.35  11.45  11.55  11.65  11.70  11.80   \n",
       "\n",
       "    2008   2009              country  \n",
       "0   1.45   1.50          Afghanistan  \n",
       "1   9.65   9.80              Albania  \n",
       "2   4.30   4.45              Algeria  \n",
       "3   3.85   3.95               Angola  \n",
       "4  11.90  12.00  Antigua and Barbuda  \n",
       "\n",
       "[5 rows x 41 columns]"
      ]
     },
     "execution_count": 7,
     "metadata": {},
     "output_type": "execute_result"
    }
   ],
   "source": [
    "ys_edu_countylist = ys_edu_M.iloc[:,:1] ## create a series with names of countries\n",
    "\n",
    "ys_edu_tot = (ys_edu_M.iloc[:,:] + ys_edu_F.iloc[:,1:])/2   # compute the average\n",
    "ys_edu_tot['country'] = ys_edu_countylist\n",
    "ys_edu_tot.head()"
   ]
  },
  {
   "cell_type": "code",
   "execution_count": 8,
   "metadata": {},
   "outputs": [
    {
     "data": {
      "image/png": "[encoded data removed]",
      "text/plain": [
       "<Figure size 432x288 with 1 Axes>"
      ]
     },
     "metadata": {},
     "output_type": "display_data"
    }
   ],
   "source": [
    "# plotting the mean of number of years of education for each year\n",
    "plt.plot(ys_edu_tot.mean());"
   ]
  },
  {
   "cell_type": "markdown",
   "metadata": {},
   "source": [
    "##### As the line-chart above shows, the trend in the number of school years is consistently increasing over time. \n",
    "##### Now I'm going to calculate, for each country, the increase in the number of years of school, between 1970 and 2009"
   ]
  },
  {
   "cell_type": "code",
   "execution_count": 9,
   "metadata": {},
   "outputs": [
    {
     "data": {
      "text/html": [
       "<div>\n",
       "<style scoped>\n",
       "    .dataframe tbody tr th:only-of-type {\n",
       "        vertical-align: middle;\n",
       "    }\n",
       "\n",
       "    .dataframe tbody tr th {\n",
       "        vertical-align: top;\n",
       "    }\n",
       "\n",
       "    .dataframe thead th {\n",
       "        text-align: right;\n",
       "    }\n",
       "</style>\n",
       "<table border=\"1\" class=\"dataframe\">\n",
       "  <thead>\n",
       "    <tr style=\"text-align: right;\">\n",
       "      <th></th>\n",
       "      <th>1970</th>\n",
       "      <th>1971</th>\n",
       "      <th>1972</th>\n",
       "      <th>1973</th>\n",
       "      <th>1974</th>\n",
       "      <th>1975</th>\n",
       "      <th>1976</th>\n",
       "      <th>1977</th>\n",
       "      <th>1978</th>\n",
       "      <th>1979</th>\n",
       "      <th>...</th>\n",
       "      <th>2002</th>\n",
       "      <th>2003</th>\n",
       "      <th>2004</th>\n",
       "      <th>2005</th>\n",
       "      <th>2006</th>\n",
       "      <th>2007</th>\n",
       "      <th>2008</th>\n",
       "      <th>2009</th>\n",
       "      <th>country</th>\n",
       "      <th>delta_edu</th>\n",
       "    </tr>\n",
       "  </thead>\n",
       "  <tbody>\n",
       "    <tr>\n",
       "      <th>0</th>\n",
       "      <td>0.35</td>\n",
       "      <td>0.4</td>\n",
       "      <td>0.45</td>\n",
       "      <td>0.45</td>\n",
       "      <td>0.45</td>\n",
       "      <td>0.5</td>\n",
       "      <td>0.50</td>\n",
       "      <td>0.50</td>\n",
       "      <td>0.55</td>\n",
       "      <td>0.55</td>\n",
       "      <td>...</td>\n",
       "      <td>1.25</td>\n",
       "      <td>1.3</td>\n",
       "      <td>1.3</td>\n",
       "      <td>1.35</td>\n",
       "      <td>1.35</td>\n",
       "      <td>1.40</td>\n",
       "      <td>1.45</td>\n",
       "      <td>1.5</td>\n",
       "      <td>Afghanistan</td>\n",
       "      <td>1.15</td>\n",
       "    </tr>\n",
       "    <tr>\n",
       "      <th>1</th>\n",
       "      <td>4.50</td>\n",
       "      <td>4.6</td>\n",
       "      <td>4.70</td>\n",
       "      <td>4.85</td>\n",
       "      <td>4.95</td>\n",
       "      <td>5.1</td>\n",
       "      <td>5.25</td>\n",
       "      <td>5.35</td>\n",
       "      <td>5.45</td>\n",
       "      <td>5.60</td>\n",
       "      <td>...</td>\n",
       "      <td>8.85</td>\n",
       "      <td>9.0</td>\n",
       "      <td>9.1</td>\n",
       "      <td>9.30</td>\n",
       "      <td>9.40</td>\n",
       "      <td>9.55</td>\n",
       "      <td>9.65</td>\n",
       "      <td>9.8</td>\n",
       "      <td>Albania</td>\n",
       "      <td>5.30</td>\n",
       "    </tr>\n",
       "  </tbody>\n",
       "</table>\n",
       "<p>2 rows × 42 columns</p>\n",
       "</div>"
      ],
      "text/plain": [
       "   1970  1971  1972  1973  1974  1975  1976  1977  1978  1979    ...      \\\n",
       "0  0.35   0.4  0.45  0.45  0.45   0.5  0.50  0.50  0.55  0.55    ...       \n",
       "1  4.50   4.6  4.70  4.85  4.95   5.1  5.25  5.35  5.45  5.60    ...       \n",
       "\n",
       "   2002  2003  2004  2005  2006  2007  2008  2009      country  delta_edu  \n",
       "0  1.25   1.3   1.3  1.35  1.35  1.40  1.45   1.5  Afghanistan       1.15  \n",
       "1  8.85   9.0   9.1  9.30  9.40  9.55  9.65   9.8      Albania       5.30  \n",
       "\n",
       "[2 rows x 42 columns]"
      ]
     },
     "execution_count": 9,
     "metadata": {},
     "output_type": "execute_result"
    }
   ],
   "source": [
    "ys_edu_tot['delta_edu'] = ys_edu_tot['2009'] - ys_edu_tot['1970']\n",
    "ys_edu_tot.head(2)"
   ]
  },
  {
   "cell_type": "code",
   "execution_count": 10,
   "metadata": {},
   "outputs": [
    {
     "data": {
      "image/png": "[encoded data removed]",
      "text/plain": [
       "<Figure size 1440x576 with 1 Axes>"
      ]
     },
     "metadata": {},
     "output_type": "display_data"
    }
   ],
   "source": [
    "# bar-chart to show the increase of number of years of education per country (descending)\n",
    "ys_edu_tot.sort_values('delta_edu', ascending=False).plot(kind='bar',x='country',y='delta_edu', figsize=(20,8));"
   ]
  },
  {
   "cell_type": "code",
   "execution_count": null,
   "metadata": {},
   "outputs": [],
   "source": []
  },
  {
   "cell_type": "markdown",
   "metadata": {},
   "source": [
    "## Now we are going to wrangle the \"Income\" dataset"
   ]
  },
  {
   "cell_type": "code",
   "execution_count": 11,
   "metadata": {},
   "outputs": [
    {
     "data": {
      "text/html": [
       "<div>\n",
       "<style scoped>\n",
       "    .dataframe tbody tr th:only-of-type {\n",
       "        vertical-align: middle;\n",
       "    }\n",
       "\n",
       "    .dataframe tbody tr th {\n",
       "        vertical-align: top;\n",
       "    }\n",
       "\n",
       "    .dataframe thead th {\n",
       "        text-align: right;\n",
       "    }\n",
       "</style>\n",
       "<table border=\"1\" class=\"dataframe\">\n",
       "  <thead>\n",
       "    <tr style=\"text-align: right;\">\n",
       "      <th></th>\n",
       "      <th>country</th>\n",
       "      <th>1800</th>\n",
       "      <th>1801</th>\n",
       "      <th>1802</th>\n",
       "      <th>1803</th>\n",
       "      <th>1804</th>\n",
       "      <th>1805</th>\n",
       "      <th>1806</th>\n",
       "      <th>1807</th>\n",
       "      <th>1808</th>\n",
       "      <th>...</th>\n",
       "      <th>2009</th>\n",
       "      <th>2010</th>\n",
       "      <th>2011</th>\n",
       "      <th>2012</th>\n",
       "      <th>2013</th>\n",
       "      <th>2014</th>\n",
       "      <th>2015</th>\n",
       "      <th>2016</th>\n",
       "      <th>2017</th>\n",
       "      <th>2018</th>\n",
       "    </tr>\n",
       "  </thead>\n",
       "  <tbody>\n",
       "    <tr>\n",
       "      <th>0</th>\n",
       "      <td>Afghanistan</td>\n",
       "      <td>603</td>\n",
       "      <td>603</td>\n",
       "      <td>603</td>\n",
       "      <td>603</td>\n",
       "      <td>603</td>\n",
       "      <td>603</td>\n",
       "      <td>603</td>\n",
       "      <td>603</td>\n",
       "      <td>603</td>\n",
       "      <td>...</td>\n",
       "      <td>1530</td>\n",
       "      <td>1610</td>\n",
       "      <td>1660</td>\n",
       "      <td>1840</td>\n",
       "      <td>1810</td>\n",
       "      <td>1780</td>\n",
       "      <td>1750</td>\n",
       "      <td>1740</td>\n",
       "      <td>1800</td>\n",
       "      <td>1870</td>\n",
       "    </tr>\n",
       "    <tr>\n",
       "      <th>1</th>\n",
       "      <td>Albania</td>\n",
       "      <td>667</td>\n",
       "      <td>667</td>\n",
       "      <td>667</td>\n",
       "      <td>667</td>\n",
       "      <td>667</td>\n",
       "      <td>668</td>\n",
       "      <td>668</td>\n",
       "      <td>668</td>\n",
       "      <td>668</td>\n",
       "      <td>...</td>\n",
       "      <td>9520</td>\n",
       "      <td>9930</td>\n",
       "      <td>10200</td>\n",
       "      <td>10400</td>\n",
       "      <td>10500</td>\n",
       "      <td>10700</td>\n",
       "      <td>11000</td>\n",
       "      <td>11400</td>\n",
       "      <td>11900</td>\n",
       "      <td>12400</td>\n",
       "    </tr>\n",
       "    <tr>\n",
       "      <th>2</th>\n",
       "      <td>Algeria</td>\n",
       "      <td>715</td>\n",
       "      <td>716</td>\n",
       "      <td>717</td>\n",
       "      <td>718</td>\n",
       "      <td>719</td>\n",
       "      <td>720</td>\n",
       "      <td>721</td>\n",
       "      <td>722</td>\n",
       "      <td>723</td>\n",
       "      <td>...</td>\n",
       "      <td>12600</td>\n",
       "      <td>12900</td>\n",
       "      <td>13000</td>\n",
       "      <td>13200</td>\n",
       "      <td>13300</td>\n",
       "      <td>13500</td>\n",
       "      <td>13700</td>\n",
       "      <td>14000</td>\n",
       "      <td>13800</td>\n",
       "      <td>13700</td>\n",
       "    </tr>\n",
       "    <tr>\n",
       "      <th>3</th>\n",
       "      <td>Andorra</td>\n",
       "      <td>1200</td>\n",
       "      <td>1200</td>\n",
       "      <td>1200</td>\n",
       "      <td>1200</td>\n",
       "      <td>1210</td>\n",
       "      <td>1210</td>\n",
       "      <td>1210</td>\n",
       "      <td>1210</td>\n",
       "      <td>1220</td>\n",
       "      <td>...</td>\n",
       "      <td>41700</td>\n",
       "      <td>39000</td>\n",
       "      <td>42000</td>\n",
       "      <td>41900</td>\n",
       "      <td>43700</td>\n",
       "      <td>44900</td>\n",
       "      <td>46600</td>\n",
       "      <td>48200</td>\n",
       "      <td>49800</td>\n",
       "      <td>51500</td>\n",
       "    </tr>\n",
       "    <tr>\n",
       "      <th>4</th>\n",
       "      <td>Angola</td>\n",
       "      <td>618</td>\n",
       "      <td>620</td>\n",
       "      <td>623</td>\n",
       "      <td>626</td>\n",
       "      <td>628</td>\n",
       "      <td>631</td>\n",
       "      <td>634</td>\n",
       "      <td>637</td>\n",
       "      <td>640</td>\n",
       "      <td>...</td>\n",
       "      <td>5910</td>\n",
       "      <td>5900</td>\n",
       "      <td>5910</td>\n",
       "      <td>6000</td>\n",
       "      <td>6180</td>\n",
       "      <td>6260</td>\n",
       "      <td>6230</td>\n",
       "      <td>6020</td>\n",
       "      <td>5940</td>\n",
       "      <td>5850</td>\n",
       "    </tr>\n",
       "  </tbody>\n",
       "</table>\n",
       "<p>5 rows × 220 columns</p>\n",
       "</div>"
      ],
      "text/plain": [
       "       country  1800  1801  1802  1803  1804  1805  1806  1807  1808  ...    \\\n",
       "0  Afghanistan   603   603   603   603   603   603   603   603   603  ...     \n",
       "1      Albania   667   667   667   667   667   668   668   668   668  ...     \n",
       "2      Algeria   715   716   717   718   719   720   721   722   723  ...     \n",
       "3      Andorra  1200  1200  1200  1200  1210  1210  1210  1210  1220  ...     \n",
       "4       Angola   618   620   623   626   628   631   634   637   640  ...     \n",
       "\n",
       "    2009   2010   2011   2012   2013   2014   2015   2016   2017   2018  \n",
       "0   1530   1610   1660   1840   1810   1780   1750   1740   1800   1870  \n",
       "1   9520   9930  10200  10400  10500  10700  11000  11400  11900  12400  \n",
       "2  12600  12900  13000  13200  13300  13500  13700  14000  13800  13700  \n",
       "3  41700  39000  42000  41900  43700  44900  46600  48200  49800  51500  \n",
       "4   5910   5900   5910   6000   6180   6260   6230   6020   5940   5850  \n",
       "\n",
       "[5 rows x 220 columns]"
      ]
     },
     "execution_count": 11,
     "metadata": {},
     "output_type": "execute_result"
    }
   ],
   "source": [
    "income = pd.read_csv('income_per_person_gdppercapita_ppp_inflation_adjusted.csv')\n",
    "income.head()"
   ]
  },
  {
   "cell_type": "markdown",
   "metadata": {},
   "source": [
    "#### Here we are going to have a look of the overall trend in the income over time, in the period matching the \"number of years in school\" dataset"
   ]
  },
  {
   "cell_type": "code",
   "execution_count": 12,
   "metadata": {},
   "outputs": [
    {
     "data": {
      "image/png": "[encoded data removed]",
      "text/plain": [
       "<Figure size 1440x576 with 1 Axes>"
      ]
     },
     "metadata": {},
     "output_type": "display_data"
    }
   ],
   "source": [
    "income.loc[:,'1970':'2009'].mean().plot(figsize=(20,8));"
   ]
  },
  {
   "cell_type": "code",
   "execution_count": 13,
   "metadata": {},
   "outputs": [
    {
     "data": {
      "text/html": [
       "<div>\n",
       "<style scoped>\n",
       "    .dataframe tbody tr th:only-of-type {\n",
       "        vertical-align: middle;\n",
       "    }\n",
       "\n",
       "    .dataframe tbody tr th {\n",
       "        vertical-align: top;\n",
       "    }\n",
       "\n",
       "    .dataframe thead th {\n",
       "        text-align: right;\n",
       "    }\n",
       "</style>\n",
       "<table border=\"1\" class=\"dataframe\">\n",
       "  <thead>\n",
       "    <tr style=\"text-align: right;\">\n",
       "      <th></th>\n",
       "      <th>country</th>\n",
       "      <th>1800</th>\n",
       "      <th>1801</th>\n",
       "      <th>1802</th>\n",
       "      <th>1803</th>\n",
       "      <th>1804</th>\n",
       "      <th>1805</th>\n",
       "      <th>1806</th>\n",
       "      <th>1807</th>\n",
       "      <th>1808</th>\n",
       "      <th>...</th>\n",
       "      <th>2010</th>\n",
       "      <th>2011</th>\n",
       "      <th>2012</th>\n",
       "      <th>2013</th>\n",
       "      <th>2014</th>\n",
       "      <th>2015</th>\n",
       "      <th>2016</th>\n",
       "      <th>2017</th>\n",
       "      <th>2018</th>\n",
       "      <th>delta_inc</th>\n",
       "    </tr>\n",
       "  </thead>\n",
       "  <tbody>\n",
       "    <tr>\n",
       "      <th>0</th>\n",
       "      <td>Afghanistan</td>\n",
       "      <td>603</td>\n",
       "      <td>603</td>\n",
       "      <td>603</td>\n",
       "      <td>603</td>\n",
       "      <td>603</td>\n",
       "      <td>603</td>\n",
       "      <td>603</td>\n",
       "      <td>603</td>\n",
       "      <td>603</td>\n",
       "      <td>...</td>\n",
       "      <td>1610</td>\n",
       "      <td>1660</td>\n",
       "      <td>1840</td>\n",
       "      <td>1810</td>\n",
       "      <td>1780</td>\n",
       "      <td>1750</td>\n",
       "      <td>1740</td>\n",
       "      <td>1800</td>\n",
       "      <td>1870</td>\n",
       "      <td>350</td>\n",
       "    </tr>\n",
       "    <tr>\n",
       "      <th>1</th>\n",
       "      <td>Albania</td>\n",
       "      <td>667</td>\n",
       "      <td>667</td>\n",
       "      <td>667</td>\n",
       "      <td>667</td>\n",
       "      <td>667</td>\n",
       "      <td>668</td>\n",
       "      <td>668</td>\n",
       "      <td>668</td>\n",
       "      <td>668</td>\n",
       "      <td>...</td>\n",
       "      <td>9930</td>\n",
       "      <td>10200</td>\n",
       "      <td>10400</td>\n",
       "      <td>10500</td>\n",
       "      <td>10700</td>\n",
       "      <td>11000</td>\n",
       "      <td>11400</td>\n",
       "      <td>11900</td>\n",
       "      <td>12400</td>\n",
       "      <td>5690</td>\n",
       "    </tr>\n",
       "    <tr>\n",
       "      <th>2</th>\n",
       "      <td>Algeria</td>\n",
       "      <td>715</td>\n",
       "      <td>716</td>\n",
       "      <td>717</td>\n",
       "      <td>718</td>\n",
       "      <td>719</td>\n",
       "      <td>720</td>\n",
       "      <td>721</td>\n",
       "      <td>722</td>\n",
       "      <td>723</td>\n",
       "      <td>...</td>\n",
       "      <td>12900</td>\n",
       "      <td>13000</td>\n",
       "      <td>13200</td>\n",
       "      <td>13300</td>\n",
       "      <td>13500</td>\n",
       "      <td>13700</td>\n",
       "      <td>14000</td>\n",
       "      <td>13800</td>\n",
       "      <td>13700</td>\n",
       "      <td>5310</td>\n",
       "    </tr>\n",
       "    <tr>\n",
       "      <th>3</th>\n",
       "      <td>Andorra</td>\n",
       "      <td>1200</td>\n",
       "      <td>1200</td>\n",
       "      <td>1200</td>\n",
       "      <td>1200</td>\n",
       "      <td>1210</td>\n",
       "      <td>1210</td>\n",
       "      <td>1210</td>\n",
       "      <td>1210</td>\n",
       "      <td>1220</td>\n",
       "      <td>...</td>\n",
       "      <td>39000</td>\n",
       "      <td>42000</td>\n",
       "      <td>41900</td>\n",
       "      <td>43700</td>\n",
       "      <td>44900</td>\n",
       "      <td>46600</td>\n",
       "      <td>48200</td>\n",
       "      <td>49800</td>\n",
       "      <td>51500</td>\n",
       "      <td>8500</td>\n",
       "    </tr>\n",
       "    <tr>\n",
       "      <th>4</th>\n",
       "      <td>Angola</td>\n",
       "      <td>618</td>\n",
       "      <td>620</td>\n",
       "      <td>623</td>\n",
       "      <td>626</td>\n",
       "      <td>628</td>\n",
       "      <td>631</td>\n",
       "      <td>634</td>\n",
       "      <td>637</td>\n",
       "      <td>640</td>\n",
       "      <td>...</td>\n",
       "      <td>5900</td>\n",
       "      <td>5910</td>\n",
       "      <td>6000</td>\n",
       "      <td>6180</td>\n",
       "      <td>6260</td>\n",
       "      <td>6230</td>\n",
       "      <td>6020</td>\n",
       "      <td>5940</td>\n",
       "      <td>5850</td>\n",
       "      <td>360</td>\n",
       "    </tr>\n",
       "  </tbody>\n",
       "</table>\n",
       "<p>5 rows × 221 columns</p>\n",
       "</div>"
      ],
      "text/plain": [
       "       country  1800  1801  1802  1803  1804  1805  1806  1807  1808  \\\n",
       "0  Afghanistan   603   603   603   603   603   603   603   603   603   \n",
       "1      Albania   667   667   667   667   667   668   668   668   668   \n",
       "2      Algeria   715   716   717   718   719   720   721   722   723   \n",
       "3      Andorra  1200  1200  1200  1200  1210  1210  1210  1210  1220   \n",
       "4       Angola   618   620   623   626   628   631   634   637   640   \n",
       "\n",
       "     ...       2010   2011   2012   2013   2014   2015   2016   2017   2018  \\\n",
       "0    ...       1610   1660   1840   1810   1780   1750   1740   1800   1870   \n",
       "1    ...       9930  10200  10400  10500  10700  11000  11400  11900  12400   \n",
       "2    ...      12900  13000  13200  13300  13500  13700  14000  13800  13700   \n",
       "3    ...      39000  42000  41900  43700  44900  46600  48200  49800  51500   \n",
       "4    ...       5900   5910   6000   6180   6260   6230   6020   5940   5850   \n",
       "\n",
       "   delta_inc  \n",
       "0        350  \n",
       "1       5690  \n",
       "2       5310  \n",
       "3       8500  \n",
       "4        360  \n",
       "\n",
       "[5 rows x 221 columns]"
      ]
     },
     "execution_count": 13,
     "metadata": {},
     "output_type": "execute_result"
    }
   ],
   "source": [
    "# income from 1970 to 2009 in new column 'delta_inc'\n",
    "income['delta_inc'] = income['2009'] - income['1970']\n",
    "income.head()"
   ]
  },
  {
   "cell_type": "code",
   "execution_count": 14,
   "metadata": {},
   "outputs": [
    {
     "data": {
      "text/html": [
       "<div>\n",
       "<style scoped>\n",
       "    .dataframe tbody tr th:only-of-type {\n",
       "        vertical-align: middle;\n",
       "    }\n",
       "\n",
       "    .dataframe tbody tr th {\n",
       "        vertical-align: top;\n",
       "    }\n",
       "\n",
       "    .dataframe thead th {\n",
       "        text-align: right;\n",
       "    }\n",
       "</style>\n",
       "<table border=\"1\" class=\"dataframe\">\n",
       "  <thead>\n",
       "    <tr style=\"text-align: right;\">\n",
       "      <th></th>\n",
       "      <th>country</th>\n",
       "      <th>delta_edu</th>\n",
       "      <th>delta_inc</th>\n",
       "    </tr>\n",
       "  </thead>\n",
       "  <tbody>\n",
       "    <tr>\n",
       "      <th>0</th>\n",
       "      <td>Afghanistan</td>\n",
       "      <td>1.15</td>\n",
       "      <td>350</td>\n",
       "    </tr>\n",
       "    <tr>\n",
       "      <th>1</th>\n",
       "      <td>Albania</td>\n",
       "      <td>5.30</td>\n",
       "      <td>5690</td>\n",
       "    </tr>\n",
       "  </tbody>\n",
       "</table>\n",
       "</div>"
      ],
      "text/plain": [
       "       country  delta_edu  delta_inc\n",
       "0  Afghanistan       1.15        350\n",
       "1      Albania       5.30       5690"
      ]
     },
     "execution_count": 14,
     "metadata": {},
     "output_type": "execute_result"
    }
   ],
   "source": [
    "# Here below I'm merging the 2 datasets about the number of years in school and the income, in order to compare them\n",
    "df_deltas = ys_edu_tot.merge(income,on='country',how='inner')\n",
    "df_deltas_edu_inc=df_deltas[['country','delta_edu','delta_inc']]\n",
    "df_deltas_edu_inc.head(2)"
   ]
  },
  {
   "cell_type": "markdown",
   "metadata": {},
   "source": [
    "## Research Question 1\n",
    "### Here below I'm plotting a scatter plot between the number of years in school and the income, in order to investigate the correlation between these 2 variables"
   ]
  },
  {
   "cell_type": "code",
   "execution_count": 15,
   "metadata": {},
   "outputs": [
    {
     "data": {
      "image/png": "[encoded data removed]",
      "text/plain": [
       "<Figure size 432x288 with 1 Axes>"
      ]
     },
     "metadata": {},
     "output_type": "display_data"
    }
   ],
   "source": [
    "df_deltas_edu_inc.plot(x='delta_edu', y='delta_inc' , kind='scatter');"
   ]
  },
  {
   "cell_type": "code",
   "execution_count": 22,
   "metadata": {},
   "outputs": [
    {
     "data": {
      "text/plain": [
       "0.27077806912557645"
      ]
     },
     "execution_count": 22,
     "metadata": {},
     "output_type": "execute_result"
    }
   ],
   "source": [
    "df_deltas_edu_inc['delta_edu'].corr(df_deltas_edu_inc['delta_inc'])"
   ]
  },
  {
   "cell_type": "markdown",
   "metadata": {},
   "source": [
    "### Results: Slight positive correlation (0.27) between education and income, which indicates that the data would partially fit my theory at point 1)"
   ]
  },
  {
   "cell_type": "code",
   "execution_count": null,
   "metadata": {},
   "outputs": [],
   "source": []
  },
  {
   "cell_type": "markdown",
   "metadata": {},
   "source": [
    "## Now we are going to wrangle the 'patent applications' variable"
   ]
  },
  {
   "cell_type": "code",
   "execution_count": 23,
   "metadata": {},
   "outputs": [
    {
     "data": {
      "text/html": [
       "<div>\n",
       "<style scoped>\n",
       "    .dataframe tbody tr th:only-of-type {\n",
       "        vertical-align: middle;\n",
       "    }\n",
       "\n",
       "    .dataframe tbody tr th {\n",
       "        vertical-align: top;\n",
       "    }\n",
       "\n",
       "    .dataframe thead th {\n",
       "        text-align: right;\n",
       "    }\n",
       "</style>\n",
       "<table border=\"1\" class=\"dataframe\">\n",
       "  <thead>\n",
       "    <tr style=\"text-align: right;\">\n",
       "      <th></th>\n",
       "      <th>country</th>\n",
       "      <th>1984</th>\n",
       "      <th>1985</th>\n",
       "      <th>1986</th>\n",
       "      <th>1987</th>\n",
       "      <th>1988</th>\n",
       "      <th>1989</th>\n",
       "      <th>1990</th>\n",
       "      <th>1991</th>\n",
       "      <th>1992</th>\n",
       "      <th>1993</th>\n",
       "      <th>1994</th>\n",
       "      <th>1995</th>\n",
       "      <th>1996</th>\n",
       "      <th>1997</th>\n",
       "      <th>1998</th>\n",
       "      <th>1999</th>\n",
       "      <th>2000</th>\n",
       "      <th>2001</th>\n",
       "      <th>2002</th>\n",
       "    </tr>\n",
       "  </thead>\n",
       "  <tbody>\n",
       "    <tr>\n",
       "      <th>0</th>\n",
       "      <td>Albania</td>\n",
       "      <td>NaN</td>\n",
       "      <td>NaN</td>\n",
       "      <td>NaN</td>\n",
       "      <td>NaN</td>\n",
       "      <td>NaN</td>\n",
       "      <td>NaN</td>\n",
       "      <td>NaN</td>\n",
       "      <td>NaN</td>\n",
       "      <td>NaN</td>\n",
       "      <td>NaN</td>\n",
       "      <td>NaN</td>\n",
       "      <td>1560.0</td>\n",
       "      <td>18800.0</td>\n",
       "      <td>26000.0</td>\n",
       "      <td>35200.0</td>\n",
       "      <td>89500.0</td>\n",
       "      <td>112000.0</td>\n",
       "      <td>130000.0</td>\n",
       "      <td>89800.0</td>\n",
       "    </tr>\n",
       "    <tr>\n",
       "      <th>1</th>\n",
       "      <td>Algeria</td>\n",
       "      <td>315.0</td>\n",
       "      <td>277.0</td>\n",
       "      <td>269.0</td>\n",
       "      <td>230.0</td>\n",
       "      <td>206.0</td>\n",
       "      <td>204.0</td>\n",
       "      <td>185.0</td>\n",
       "      <td>139.0</td>\n",
       "      <td>144.0</td>\n",
       "      <td>121.0</td>\n",
       "      <td>144.0</td>\n",
       "      <td>142.0</td>\n",
       "      <td>198.0</td>\n",
       "      <td>240.0</td>\n",
       "      <td>306.0</td>\n",
       "      <td>282.0</td>\n",
       "      <td>33600.0</td>\n",
       "      <td>72300.0</td>\n",
       "      <td>88900.0</td>\n",
       "    </tr>\n",
       "  </tbody>\n",
       "</table>\n",
       "</div>"
      ],
      "text/plain": [
       "   country   1984   1985   1986   1987   1988   1989   1990   1991   1992  \\\n",
       "0  Albania    NaN    NaN    NaN    NaN    NaN    NaN    NaN    NaN    NaN   \n",
       "1  Algeria  315.0  277.0  269.0  230.0  206.0  204.0  185.0  139.0  144.0   \n",
       "\n",
       "    1993   1994    1995     1996     1997     1998     1999      2000  \\\n",
       "0    NaN    NaN  1560.0  18800.0  26000.0  35200.0  89500.0  112000.0   \n",
       "1  121.0  144.0   142.0    198.0    240.0    306.0    282.0   33600.0   \n",
       "\n",
       "       2001     2002  \n",
       "0  130000.0  89800.0  \n",
       "1   72300.0  88900.0  "
      ]
     },
     "execution_count": 23,
     "metadata": {},
     "output_type": "execute_result"
    }
   ],
   "source": [
    "# import datasets about the number of patent application\n",
    "\n",
    "patent = pd.read_csv('patent_applications_total.csv')\n",
    "patent.head(2)"
   ]
  },
  {
   "cell_type": "code",
   "execution_count": 24,
   "metadata": {},
   "outputs": [
    {
     "data": {
      "text/plain": [
       "(147, 20)"
      ]
     },
     "execution_count": 24,
     "metadata": {},
     "output_type": "execute_result"
    }
   ],
   "source": [
    "patent.shape"
   ]
  },
  {
   "cell_type": "code",
   "execution_count": 25,
   "metadata": {},
   "outputs": [
    {
     "name": "stdout",
     "output_type": "stream",
     "text": [
      "<class 'pandas.core.frame.DataFrame'>\n",
      "RangeIndex: 147 entries, 0 to 146\n",
      "Data columns (total 20 columns):\n",
      "country    147 non-null object\n",
      "1984       86 non-null float64\n",
      "1985       90 non-null float64\n",
      "1986       84 non-null float64\n",
      "1987       77 non-null float64\n",
      "1988       85 non-null float64\n",
      "1989       85 non-null float64\n",
      "1990       85 non-null float64\n",
      "1991       89 non-null float64\n",
      "1992       97 non-null float64\n",
      "1993       102 non-null float64\n",
      "1994       107 non-null float64\n",
      "1995       111 non-null float64\n",
      "1996       108 non-null float64\n",
      "1997       99 non-null float64\n",
      "1998       101 non-null float64\n",
      "1999       110 non-null float64\n",
      "2000       116 non-null float64\n",
      "2001       106 non-null float64\n",
      "2002       110 non-null float64\n",
      "dtypes: float64(19), object(1)\n",
      "memory usage: 23.0+ KB\n"
     ]
    }
   ],
   "source": [
    "patent.info()"
   ]
  },
  {
   "cell_type": "markdown",
   "metadata": {},
   "source": [
    "##### As we see many missing values, we are going to drop all the rows with missing values, and see how many rows are left after this operation, to see if there are enough rows to be statistically significant (>= 30 for this analysis)"
   ]
  },
  {
   "cell_type": "code",
   "execution_count": 26,
   "metadata": {},
   "outputs": [
    {
     "name": "stdout",
     "output_type": "stream",
     "text": [
      "<class 'pandas.core.frame.DataFrame'>\n",
      "Int64Index: 45 entries, 1 to 146\n",
      "Data columns (total 20 columns):\n",
      "country    45 non-null object\n",
      "1984       45 non-null float64\n",
      "1985       45 non-null float64\n",
      "1986       45 non-null float64\n",
      "1987       45 non-null float64\n",
      "1988       45 non-null float64\n",
      "1989       45 non-null float64\n",
      "1990       45 non-null float64\n",
      "1991       45 non-null float64\n",
      "1992       45 non-null float64\n",
      "1993       45 non-null float64\n",
      "1994       45 non-null float64\n",
      "1995       45 non-null float64\n",
      "1996       45 non-null float64\n",
      "1997       45 non-null float64\n",
      "1998       45 non-null float64\n",
      "1999       45 non-null float64\n",
      "2000       45 non-null float64\n",
      "2001       45 non-null float64\n",
      "2002       45 non-null float64\n",
      "dtypes: float64(19), object(1)\n",
      "memory usage: 7.4+ KB\n"
     ]
    }
   ],
   "source": [
    "patent.dropna(inplace = True)\n",
    "patent.info()"
   ]
  },
  {
   "cell_type": "code",
   "execution_count": 27,
   "metadata": {},
   "outputs": [
    {
     "data": {
      "text/html": [
       "<div>\n",
       "<style scoped>\n",
       "    .dataframe tbody tr th:only-of-type {\n",
       "        vertical-align: middle;\n",
       "    }\n",
       "\n",
       "    .dataframe tbody tr th {\n",
       "        vertical-align: top;\n",
       "    }\n",
       "\n",
       "    .dataframe thead th {\n",
       "        text-align: right;\n",
       "    }\n",
       "</style>\n",
       "<table border=\"1\" class=\"dataframe\">\n",
       "  <thead>\n",
       "    <tr style=\"text-align: right;\">\n",
       "      <th></th>\n",
       "      <th>country</th>\n",
       "      <th>1984</th>\n",
       "      <th>1985</th>\n",
       "      <th>1986</th>\n",
       "      <th>1987</th>\n",
       "      <th>1988</th>\n",
       "      <th>1989</th>\n",
       "      <th>1990</th>\n",
       "      <th>1991</th>\n",
       "      <th>1992</th>\n",
       "      <th>1993</th>\n",
       "      <th>1994</th>\n",
       "      <th>1995</th>\n",
       "      <th>1996</th>\n",
       "      <th>1997</th>\n",
       "      <th>1998</th>\n",
       "      <th>1999</th>\n",
       "      <th>2000</th>\n",
       "      <th>2001</th>\n",
       "      <th>2002</th>\n",
       "    </tr>\n",
       "  </thead>\n",
       "  <tbody>\n",
       "    <tr>\n",
       "      <th>1</th>\n",
       "      <td>Algeria</td>\n",
       "      <td>315.0</td>\n",
       "      <td>277.0</td>\n",
       "      <td>269.0</td>\n",
       "      <td>230.0</td>\n",
       "      <td>206.0</td>\n",
       "      <td>204.0</td>\n",
       "      <td>185.0</td>\n",
       "      <td>139.0</td>\n",
       "      <td>144.0</td>\n",
       "      <td>121.0</td>\n",
       "      <td>144.0</td>\n",
       "      <td>142.0</td>\n",
       "      <td>198.0</td>\n",
       "      <td>240.0</td>\n",
       "      <td>306.0</td>\n",
       "      <td>282.0</td>\n",
       "      <td>33600.0</td>\n",
       "      <td>72300.0</td>\n",
       "      <td>88900.0</td>\n",
       "    </tr>\n",
       "    <tr>\n",
       "      <th>5</th>\n",
       "      <td>Australia</td>\n",
       "      <td>17400.0</td>\n",
       "      <td>20000.0</td>\n",
       "      <td>19700.0</td>\n",
       "      <td>21200.0</td>\n",
       "      <td>22500.0</td>\n",
       "      <td>24100.0</td>\n",
       "      <td>26500.0</td>\n",
       "      <td>27700.0</td>\n",
       "      <td>28900.0</td>\n",
       "      <td>30700.0</td>\n",
       "      <td>35000.0</td>\n",
       "      <td>37500.0</td>\n",
       "      <td>43300.0</td>\n",
       "      <td>48200.0</td>\n",
       "      <td>57700.0</td>\n",
       "      <td>63400.0</td>\n",
       "      <td>80700.0</td>\n",
       "      <td>95200.0</td>\n",
       "      <td>107000.0</td>\n",
       "    </tr>\n",
       "  </tbody>\n",
       "</table>\n",
       "</div>"
      ],
      "text/plain": [
       "     country     1984     1985     1986     1987     1988     1989     1990  \\\n",
       "1    Algeria    315.0    277.0    269.0    230.0    206.0    204.0    185.0   \n",
       "5  Australia  17400.0  20000.0  19700.0  21200.0  22500.0  24100.0  26500.0   \n",
       "\n",
       "      1991     1992     1993     1994     1995     1996     1997     1998  \\\n",
       "1    139.0    144.0    121.0    144.0    142.0    198.0    240.0    306.0   \n",
       "5  27700.0  28900.0  30700.0  35000.0  37500.0  43300.0  48200.0  57700.0   \n",
       "\n",
       "      1999     2000     2001      2002  \n",
       "1    282.0  33600.0  72300.0   88900.0  \n",
       "5  63400.0  80700.0  95200.0  107000.0  "
      ]
     },
     "execution_count": 27,
     "metadata": {},
     "output_type": "execute_result"
    }
   ],
   "source": [
    "patent.head(2)"
   ]
  },
  {
   "cell_type": "code",
   "execution_count": 28,
   "metadata": {},
   "outputs": [
    {
     "data": {
      "image/png": "[encoded data removed]",
      "text/plain": [
       "<Figure size 432x288 with 1 Axes>"
      ]
     },
     "metadata": {},
     "output_type": "display_data"
    }
   ],
   "source": [
    "plt.plot(patent.mean());"
   ]
  },
  {
   "cell_type": "markdown",
   "metadata": {},
   "source": [
    "##### Here above we can observe an exponential increasing trend in the applications for patents over time. I suspect this could be partially due to the population increase, therefore we are going to adjust the number of applications for patents with the populatin numbers (in order to isolate the relationship between mean education and number of application per person, otherwise we might find that some countries have a very high number of applications just because they can count on a very high number of people)."
   ]
  },
  {
   "cell_type": "code",
   "execution_count": 29,
   "metadata": {},
   "outputs": [
    {
     "data": {
      "text/html": [
       "<div>\n",
       "<style scoped>\n",
       "    .dataframe tbody tr th:only-of-type {\n",
       "        vertical-align: middle;\n",
       "    }\n",
       "\n",
       "    .dataframe tbody tr th {\n",
       "        vertical-align: top;\n",
       "    }\n",
       "\n",
       "    .dataframe thead th {\n",
       "        text-align: right;\n",
       "    }\n",
       "</style>\n",
       "<table border=\"1\" class=\"dataframe\">\n",
       "  <thead>\n",
       "    <tr style=\"text-align: right;\">\n",
       "      <th></th>\n",
       "      <th>country</th>\n",
       "      <th>1984</th>\n",
       "      <th>2002</th>\n",
       "    </tr>\n",
       "  </thead>\n",
       "  <tbody>\n",
       "    <tr>\n",
       "      <th>0</th>\n",
       "      <td>Afghanistan</td>\n",
       "      <td>12000000</td>\n",
       "      <td>22000000</td>\n",
       "    </tr>\n",
       "    <tr>\n",
       "      <th>1</th>\n",
       "      <td>Albania</td>\n",
       "      <td>2900000</td>\n",
       "      <td>3120000</td>\n",
       "    </tr>\n",
       "  </tbody>\n",
       "</table>\n",
       "</div>"
      ],
      "text/plain": [
       "       country      1984      2002\n",
       "0  Afghanistan  12000000  22000000\n",
       "1      Albania   2900000   3120000"
      ]
     },
     "execution_count": 29,
     "metadata": {},
     "output_type": "execute_result"
    }
   ],
   "source": [
    "pop = pd.read_csv('population_total.csv',usecols=[0,185,203])\n",
    "pop.head(2)"
   ]
  },
  {
   "cell_type": "code",
   "execution_count": 30,
   "metadata": {},
   "outputs": [
    {
     "data": {
      "text/html": [
       "<div>\n",
       "<style scoped>\n",
       "    .dataframe tbody tr th:only-of-type {\n",
       "        vertical-align: middle;\n",
       "    }\n",
       "\n",
       "    .dataframe tbody tr th {\n",
       "        vertical-align: top;\n",
       "    }\n",
       "\n",
       "    .dataframe thead th {\n",
       "        text-align: right;\n",
       "    }\n",
       "</style>\n",
       "<table border=\"1\" class=\"dataframe\">\n",
       "  <thead>\n",
       "    <tr style=\"text-align: right;\">\n",
       "      <th></th>\n",
       "      <th>country</th>\n",
       "      <th>1984</th>\n",
       "      <th>2002</th>\n",
       "    </tr>\n",
       "  </thead>\n",
       "  <tbody>\n",
       "    <tr>\n",
       "      <th>1</th>\n",
       "      <td>Algeria</td>\n",
       "      <td>315.0</td>\n",
       "      <td>88900.0</td>\n",
       "    </tr>\n",
       "    <tr>\n",
       "      <th>5</th>\n",
       "      <td>Australia</td>\n",
       "      <td>17400.0</td>\n",
       "      <td>107000.0</td>\n",
       "    </tr>\n",
       "    <tr>\n",
       "      <th>6</th>\n",
       "      <td>Austria</td>\n",
       "      <td>4220.0</td>\n",
       "      <td>254000.0</td>\n",
       "    </tr>\n",
       "    <tr>\n",
       "      <th>11</th>\n",
       "      <td>Barbados</td>\n",
       "      <td>38.0</td>\n",
       "      <td>89700.0</td>\n",
       "    </tr>\n",
       "    <tr>\n",
       "      <th>13</th>\n",
       "      <td>Belgium</td>\n",
       "      <td>2840.0</td>\n",
       "      <td>164000.0</td>\n",
       "    </tr>\n",
       "  </tbody>\n",
       "</table>\n",
       "</div>"
      ],
      "text/plain": [
       "      country     1984      2002\n",
       "1     Algeria    315.0   88900.0\n",
       "5   Australia  17400.0  107000.0\n",
       "6     Austria   4220.0  254000.0\n",
       "11   Barbados     38.0   89700.0\n",
       "13    Belgium   2840.0  164000.0"
      ]
     },
     "execution_count": 30,
     "metadata": {},
     "output_type": "execute_result"
    }
   ],
   "source": [
    "# Here we are creating a dataset with the values of applications \n",
    "pat = patent.loc[:,['country','1984','2002']]\n",
    "pat.head()"
   ]
  },
  {
   "cell_type": "markdown",
   "metadata": {},
   "source": [
    "#### I'm going to merge population and patents datasets on country, and then make other 2 coulmns for the years 1984 and 2002, of the adjusted values according to the formula (number of patenta application for year i) / (number of people for year i), for each country. "
   ]
  },
  {
   "cell_type": "code",
   "execution_count": 31,
   "metadata": {},
   "outputs": [
    {
     "data": {
      "text/html": [
       "<div>\n",
       "<style scoped>\n",
       "    .dataframe tbody tr th:only-of-type {\n",
       "        vertical-align: middle;\n",
       "    }\n",
       "\n",
       "    .dataframe tbody tr th {\n",
       "        vertical-align: top;\n",
       "    }\n",
       "\n",
       "    .dataframe thead th {\n",
       "        text-align: right;\n",
       "    }\n",
       "</style>\n",
       "<table border=\"1\" class=\"dataframe\">\n",
       "  <thead>\n",
       "    <tr style=\"text-align: right;\">\n",
       "      <th></th>\n",
       "      <th>country</th>\n",
       "      <th>1984_x</th>\n",
       "      <th>2002_x</th>\n",
       "      <th>1984_y</th>\n",
       "      <th>2002_y</th>\n",
       "    </tr>\n",
       "  </thead>\n",
       "  <tbody>\n",
       "    <tr>\n",
       "      <th>0</th>\n",
       "      <td>Algeria</td>\n",
       "      <td>315.0</td>\n",
       "      <td>88900.0</td>\n",
       "      <td>21900000</td>\n",
       "      <td>32000000</td>\n",
       "    </tr>\n",
       "    <tr>\n",
       "      <th>1</th>\n",
       "      <td>Australia</td>\n",
       "      <td>17400.0</td>\n",
       "      <td>107000.0</td>\n",
       "      <td>15500000</td>\n",
       "      <td>19500000</td>\n",
       "    </tr>\n",
       "    <tr>\n",
       "      <th>2</th>\n",
       "      <td>Austria</td>\n",
       "      <td>4220.0</td>\n",
       "      <td>254000.0</td>\n",
       "      <td>7610000</td>\n",
       "      <td>8130000</td>\n",
       "    </tr>\n",
       "    <tr>\n",
       "      <th>3</th>\n",
       "      <td>Barbados</td>\n",
       "      <td>38.0</td>\n",
       "      <td>89700.0</td>\n",
       "      <td>255000</td>\n",
       "      <td>271000</td>\n",
       "    </tr>\n",
       "    <tr>\n",
       "      <th>4</th>\n",
       "      <td>Belgium</td>\n",
       "      <td>2840.0</td>\n",
       "      <td>164000.0</td>\n",
       "      <td>9910000</td>\n",
       "      <td>10400000</td>\n",
       "    </tr>\n",
       "  </tbody>\n",
       "</table>\n",
       "</div>"
      ],
      "text/plain": [
       "     country   1984_x    2002_x    1984_y    2002_y\n",
       "0    Algeria    315.0   88900.0  21900000  32000000\n",
       "1  Australia  17400.0  107000.0  15500000  19500000\n",
       "2    Austria   4220.0  254000.0   7610000   8130000\n",
       "3   Barbados     38.0   89700.0    255000    271000\n",
       "4    Belgium   2840.0  164000.0   9910000  10400000"
      ]
     },
     "execution_count": 31,
     "metadata": {},
     "output_type": "execute_result"
    }
   ],
   "source": [
    "pat_adj = pat.merge(pop,on='country',how='inner')\n",
    "pat_adj.head()"
   ]
  },
  {
   "cell_type": "code",
   "execution_count": 32,
   "metadata": {},
   "outputs": [
    {
     "data": {
      "text/html": [
       "<div>\n",
       "<style scoped>\n",
       "    .dataframe tbody tr th:only-of-type {\n",
       "        vertical-align: middle;\n",
       "    }\n",
       "\n",
       "    .dataframe tbody tr th {\n",
       "        vertical-align: top;\n",
       "    }\n",
       "\n",
       "    .dataframe thead th {\n",
       "        text-align: right;\n",
       "    }\n",
       "</style>\n",
       "<table border=\"1\" class=\"dataframe\">\n",
       "  <thead>\n",
       "    <tr style=\"text-align: right;\">\n",
       "      <th></th>\n",
       "      <th>country</th>\n",
       "      <th>1984_x</th>\n",
       "      <th>2002_x</th>\n",
       "      <th>1984_y</th>\n",
       "      <th>2002_y</th>\n",
       "      <th>pat_84_adj</th>\n",
       "      <th>pat_02_adj</th>\n",
       "    </tr>\n",
       "  </thead>\n",
       "  <tbody>\n",
       "    <tr>\n",
       "      <th>0</th>\n",
       "      <td>Algeria</td>\n",
       "      <td>315.0</td>\n",
       "      <td>88900.0</td>\n",
       "      <td>21900000</td>\n",
       "      <td>32000000</td>\n",
       "      <td>0.000014</td>\n",
       "      <td>0.002778</td>\n",
       "    </tr>\n",
       "    <tr>\n",
       "      <th>1</th>\n",
       "      <td>Australia</td>\n",
       "      <td>17400.0</td>\n",
       "      <td>107000.0</td>\n",
       "      <td>15500000</td>\n",
       "      <td>19500000</td>\n",
       "      <td>0.001123</td>\n",
       "      <td>0.005487</td>\n",
       "    </tr>\n",
       "    <tr>\n",
       "      <th>2</th>\n",
       "      <td>Austria</td>\n",
       "      <td>4220.0</td>\n",
       "      <td>254000.0</td>\n",
       "      <td>7610000</td>\n",
       "      <td>8130000</td>\n",
       "      <td>0.000555</td>\n",
       "      <td>0.031242</td>\n",
       "    </tr>\n",
       "    <tr>\n",
       "      <th>3</th>\n",
       "      <td>Barbados</td>\n",
       "      <td>38.0</td>\n",
       "      <td>89700.0</td>\n",
       "      <td>255000</td>\n",
       "      <td>271000</td>\n",
       "      <td>0.000149</td>\n",
       "      <td>0.330996</td>\n",
       "    </tr>\n",
       "    <tr>\n",
       "      <th>4</th>\n",
       "      <td>Belgium</td>\n",
       "      <td>2840.0</td>\n",
       "      <td>164000.0</td>\n",
       "      <td>9910000</td>\n",
       "      <td>10400000</td>\n",
       "      <td>0.000287</td>\n",
       "      <td>0.015769</td>\n",
       "    </tr>\n",
       "  </tbody>\n",
       "</table>\n",
       "</div>"
      ],
      "text/plain": [
       "     country   1984_x    2002_x    1984_y    2002_y  pat_84_adj  pat_02_adj\n",
       "0    Algeria    315.0   88900.0  21900000  32000000    0.000014    0.002778\n",
       "1  Australia  17400.0  107000.0  15500000  19500000    0.001123    0.005487\n",
       "2    Austria   4220.0  254000.0   7610000   8130000    0.000555    0.031242\n",
       "3   Barbados     38.0   89700.0    255000    271000    0.000149    0.330996\n",
       "4    Belgium   2840.0  164000.0   9910000  10400000    0.000287    0.015769"
      ]
     },
     "execution_count": 32,
     "metadata": {},
     "output_type": "execute_result"
    }
   ],
   "source": [
    "pat_adj['pat_84_adj'] = pat_adj['1984_x']/pat_adj['1984_y']        \n",
    "pat_adj['pat_02_adj'] = pat_adj['2002_x']/pat_adj['2002_y'] \n",
    "pat_adj.head()"
   ]
  },
  {
   "cell_type": "markdown",
   "metadata": {},
   "source": [
    "#### I'm going finally to make another column (pat_02_adj)/(pat_84_adj) to see the increment of the patent application between 1984 and 2002 as a ratio, for each country "
   ]
  },
  {
   "cell_type": "code",
   "execution_count": 33,
   "metadata": {},
   "outputs": [
    {
     "data": {
      "text/html": [
       "<div>\n",
       "<style scoped>\n",
       "    .dataframe tbody tr th:only-of-type {\n",
       "        vertical-align: middle;\n",
       "    }\n",
       "\n",
       "    .dataframe tbody tr th {\n",
       "        vertical-align: top;\n",
       "    }\n",
       "\n",
       "    .dataframe thead th {\n",
       "        text-align: right;\n",
       "    }\n",
       "</style>\n",
       "<table border=\"1\" class=\"dataframe\">\n",
       "  <thead>\n",
       "    <tr style=\"text-align: right;\">\n",
       "      <th></th>\n",
       "      <th>country</th>\n",
       "      <th>1984_x</th>\n",
       "      <th>2002_x</th>\n",
       "      <th>1984_y</th>\n",
       "      <th>2002_y</th>\n",
       "      <th>pat_84_adj</th>\n",
       "      <th>pat_02_adj</th>\n",
       "      <th>pat_ratio_84-02</th>\n",
       "    </tr>\n",
       "  </thead>\n",
       "  <tbody>\n",
       "    <tr>\n",
       "      <th>0</th>\n",
       "      <td>Algeria</td>\n",
       "      <td>315.0</td>\n",
       "      <td>88900.0</td>\n",
       "      <td>21900000</td>\n",
       "      <td>32000000</td>\n",
       "      <td>0.000014</td>\n",
       "      <td>0.002778</td>\n",
       "      <td>193.145833</td>\n",
       "    </tr>\n",
       "    <tr>\n",
       "      <th>1</th>\n",
       "      <td>Australia</td>\n",
       "      <td>17400.0</td>\n",
       "      <td>107000.0</td>\n",
       "      <td>15500000</td>\n",
       "      <td>19500000</td>\n",
       "      <td>0.001123</td>\n",
       "      <td>0.005487</td>\n",
       "      <td>4.888005</td>\n",
       "    </tr>\n",
       "  </tbody>\n",
       "</table>\n",
       "</div>"
      ],
      "text/plain": [
       "     country   1984_x    2002_x    1984_y    2002_y  pat_84_adj  pat_02_adj  \\\n",
       "0    Algeria    315.0   88900.0  21900000  32000000    0.000014    0.002778   \n",
       "1  Australia  17400.0  107000.0  15500000  19500000    0.001123    0.005487   \n",
       "\n",
       "   pat_ratio_84-02  \n",
       "0       193.145833  \n",
       "1         4.888005  "
      ]
     },
     "execution_count": 33,
     "metadata": {},
     "output_type": "execute_result"
    }
   ],
   "source": [
    "pat_adj['pat_ratio_84-02'] = pat_adj['pat_02_adj']/pat_adj['pat_84_adj']\n",
    "pat_adj.head(2)"
   ]
  },
  {
   "cell_type": "markdown",
   "metadata": {},
   "source": [
    "#### similarly, I'm going to create a dataset with income for years 1984 and 2002, and the ratio between them"
   ]
  },
  {
   "cell_type": "code",
   "execution_count": 34,
   "metadata": {},
   "outputs": [
    {
     "data": {
      "text/html": [
       "<div>\n",
       "<style scoped>\n",
       "    .dataframe tbody tr th:only-of-type {\n",
       "        vertical-align: middle;\n",
       "    }\n",
       "\n",
       "    .dataframe tbody tr th {\n",
       "        vertical-align: top;\n",
       "    }\n",
       "\n",
       "    .dataframe thead th {\n",
       "        text-align: right;\n",
       "    }\n",
       "</style>\n",
       "<table border=\"1\" class=\"dataframe\">\n",
       "  <thead>\n",
       "    <tr style=\"text-align: right;\">\n",
       "      <th></th>\n",
       "      <th>country</th>\n",
       "      <th>delta_inc</th>\n",
       "      <th>inc_ratio_84-02</th>\n",
       "    </tr>\n",
       "  </thead>\n",
       "  <tbody>\n",
       "    <tr>\n",
       "      <th>0</th>\n",
       "      <td>Afghanistan</td>\n",
       "      <td>350</td>\n",
       "      <td>0.736111</td>\n",
       "    </tr>\n",
       "    <tr>\n",
       "      <th>1</th>\n",
       "      <td>Albania</td>\n",
       "      <td>5690</td>\n",
       "      <td>1.403153</td>\n",
       "    </tr>\n",
       "    <tr>\n",
       "      <th>2</th>\n",
       "      <td>Algeria</td>\n",
       "      <td>5310</td>\n",
       "      <td>0.972973</td>\n",
       "    </tr>\n",
       "    <tr>\n",
       "      <th>3</th>\n",
       "      <td>Andorra</td>\n",
       "      <td>8500</td>\n",
       "      <td>1.123239</td>\n",
       "    </tr>\n",
       "    <tr>\n",
       "      <th>4</th>\n",
       "      <td>Angola</td>\n",
       "      <td>360</td>\n",
       "      <td>0.750000</td>\n",
       "    </tr>\n",
       "  </tbody>\n",
       "</table>\n",
       "</div>"
      ],
      "text/plain": [
       "       country  delta_inc  inc_ratio_84-02\n",
       "0  Afghanistan        350         0.736111\n",
       "1      Albania       5690         1.403153\n",
       "2      Algeria       5310         0.972973\n",
       "3      Andorra       8500         1.123239\n",
       "4       Angola        360         0.750000"
      ]
     },
     "execution_count": 34,
     "metadata": {},
     "output_type": "execute_result"
    }
   ],
   "source": [
    "income['inc_ratio_84-02'] = income['2002'] / income['1984']\n",
    "income1 = income.loc[:,['country','delta_inc','inc_ratio_84-02']]\n",
    "income1.head()"
   ]
  },
  {
   "cell_type": "markdown",
   "metadata": {},
   "source": [
    "#### Again similarly, I'm going to create a dataset with education for years 1984 and 2002, and the ratio between them"
   ]
  },
  {
   "cell_type": "code",
   "execution_count": 35,
   "metadata": {},
   "outputs": [
    {
     "data": {
      "text/html": [
       "<div>\n",
       "<style scoped>\n",
       "    .dataframe tbody tr th:only-of-type {\n",
       "        vertical-align: middle;\n",
       "    }\n",
       "\n",
       "    .dataframe tbody tr th {\n",
       "        vertical-align: top;\n",
       "    }\n",
       "\n",
       "    .dataframe thead th {\n",
       "        text-align: right;\n",
       "    }\n",
       "</style>\n",
       "<table border=\"1\" class=\"dataframe\">\n",
       "  <thead>\n",
       "    <tr style=\"text-align: right;\">\n",
       "      <th></th>\n",
       "      <th>country</th>\n",
       "      <th>delta_edu</th>\n",
       "      <th>edu_ratio_84-02</th>\n",
       "    </tr>\n",
       "  </thead>\n",
       "  <tbody>\n",
       "    <tr>\n",
       "      <th>0</th>\n",
       "      <td>Afghanistan</td>\n",
       "      <td>1.15</td>\n",
       "      <td>1.785714</td>\n",
       "    </tr>\n",
       "    <tr>\n",
       "      <th>1</th>\n",
       "      <td>Albania</td>\n",
       "      <td>5.30</td>\n",
       "      <td>1.416000</td>\n",
       "    </tr>\n",
       "    <tr>\n",
       "      <th>2</th>\n",
       "      <td>Algeria</td>\n",
       "      <td>3.70</td>\n",
       "      <td>2.151515</td>\n",
       "    </tr>\n",
       "    <tr>\n",
       "      <th>3</th>\n",
       "      <td>Angola</td>\n",
       "      <td>3.00</td>\n",
       "      <td>1.882353</td>\n",
       "    </tr>\n",
       "    <tr>\n",
       "      <th>4</th>\n",
       "      <td>Antigua and Barbuda</td>\n",
       "      <td>5.00</td>\n",
       "      <td>1.261111</td>\n",
       "    </tr>\n",
       "  </tbody>\n",
       "</table>\n",
       "</div>"
      ],
      "text/plain": [
       "               country  delta_edu  edu_ratio_84-02\n",
       "0          Afghanistan       1.15         1.785714\n",
       "1              Albania       5.30         1.416000\n",
       "2              Algeria       3.70         2.151515\n",
       "3               Angola       3.00         1.882353\n",
       "4  Antigua and Barbuda       5.00         1.261111"
      ]
     },
     "execution_count": 35,
     "metadata": {},
     "output_type": "execute_result"
    }
   ],
   "source": [
    "ys_edu_tot['edu_ratio_84-02'] = ys_edu_tot['2002'] / ys_edu_tot['1984']\n",
    "ys_edu_tot2 = ys_edu_tot.loc[:,['country','delta_edu','edu_ratio_84-02']]\n",
    "ys_edu_tot2.head()"
   ]
  },
  {
   "cell_type": "markdown",
   "metadata": {},
   "source": [
    "#### I'm then going to merge the 3 datasets in a unique one for ease of analysis"
   ]
  },
  {
   "cell_type": "code",
   "execution_count": 36,
   "metadata": {},
   "outputs": [
    {
     "data": {
      "text/html": [
       "<div>\n",
       "<style scoped>\n",
       "    .dataframe tbody tr th:only-of-type {\n",
       "        vertical-align: middle;\n",
       "    }\n",
       "\n",
       "    .dataframe tbody tr th {\n",
       "        vertical-align: top;\n",
       "    }\n",
       "\n",
       "    .dataframe thead th {\n",
       "        text-align: right;\n",
       "    }\n",
       "</style>\n",
       "<table border=\"1\" class=\"dataframe\">\n",
       "  <thead>\n",
       "    <tr style=\"text-align: right;\">\n",
       "      <th></th>\n",
       "      <th>country</th>\n",
       "      <th>delta_edu</th>\n",
       "      <th>edu_ratio_84-02</th>\n",
       "      <th>delta_inc</th>\n",
       "      <th>inc_ratio_84-02</th>\n",
       "      <th>pat_ratio_84-02</th>\n",
       "    </tr>\n",
       "  </thead>\n",
       "  <tbody>\n",
       "    <tr>\n",
       "      <th>0</th>\n",
       "      <td>Algeria</td>\n",
       "      <td>3.70</td>\n",
       "      <td>2.151515</td>\n",
       "      <td>5310</td>\n",
       "      <td>0.972973</td>\n",
       "      <td>193.145833</td>\n",
       "    </tr>\n",
       "    <tr>\n",
       "      <th>1</th>\n",
       "      <td>Australia</td>\n",
       "      <td>3.10</td>\n",
       "      <td>1.141414</td>\n",
       "      <td>21500</td>\n",
       "      <td>1.461847</td>\n",
       "      <td>4.888005</td>\n",
       "    </tr>\n",
       "    <tr>\n",
       "      <th>2</th>\n",
       "      <td>Austria</td>\n",
       "      <td>3.35</td>\n",
       "      <td>1.153439</td>\n",
       "      <td>24500</td>\n",
       "      <td>1.483146</td>\n",
       "      <td>56.339810</td>\n",
       "    </tr>\n",
       "    <tr>\n",
       "      <th>3</th>\n",
       "      <td>Belgium</td>\n",
       "      <td>4.95</td>\n",
       "      <td>1.240437</td>\n",
       "      <td>21500</td>\n",
       "      <td>1.435606</td>\n",
       "      <td>55.025731</td>\n",
       "    </tr>\n",
       "    <tr>\n",
       "      <th>4</th>\n",
       "      <td>Brazil</td>\n",
       "      <td>4.70</td>\n",
       "      <td>1.613333</td>\n",
       "      <td>7760</td>\n",
       "      <td>1.169355</td>\n",
       "      <td>11.215278</td>\n",
       "    </tr>\n",
       "  </tbody>\n",
       "</table>\n",
       "</div>"
      ],
      "text/plain": [
       "     country  delta_edu  edu_ratio_84-02  delta_inc  inc_ratio_84-02  \\\n",
       "0    Algeria       3.70         2.151515       5310         0.972973   \n",
       "1  Australia       3.10         1.141414      21500         1.461847   \n",
       "2    Austria       3.35         1.153439      24500         1.483146   \n",
       "3    Belgium       4.95         1.240437      21500         1.435606   \n",
       "4     Brazil       4.70         1.613333       7760         1.169355   \n",
       "\n",
       "   pat_ratio_84-02  \n",
       "0       193.145833  \n",
       "1         4.888005  \n",
       "2        56.339810  \n",
       "3        55.025731  \n",
       "4        11.215278  "
      ]
     },
     "execution_count": 36,
     "metadata": {},
     "output_type": "execute_result"
    }
   ],
   "source": [
    "df_deltas2 = income1.merge(pat_adj,on='country',how='inner')\n",
    "df_deltas3 = df_deltas2.merge(ys_edu_tot2,on='country',how='inner').loc[:,['country','delta_edu','edu_ratio_84-02','delta_inc','inc_ratio_84-02','pat_ratio_84-02']]\n",
    "df_deltas3.head()"
   ]
  },
  {
   "cell_type": "code",
   "execution_count": null,
   "metadata": {},
   "outputs": [],
   "source": []
  },
  {
   "cell_type": "markdown",
   "metadata": {},
   "source": [
    "## Research Question 2\n",
    "### Here following we are going to analyze the theory number 2), which is to investigate the relationship between number of patents and income, to confirm that the bigger the increase of patent applications for a coutry, the more that country should increase its technological level, therefore its increase in the income"
   ]
  },
  {
   "cell_type": "code",
   "execution_count": 37,
   "metadata": {
    "scrolled": true
   },
   "outputs": [
    {
     "data": {
      "image/png": "[encoded data removed]",
      "text/plain": [
       "<Figure size 432x288 with 1 Axes>"
      ]
     },
     "metadata": {},
     "output_type": "display_data"
    }
   ],
   "source": [
    "# Here below I'm plotting a scatter plot between the number of pantent applications and the income, \n",
    "# in order to investigate the correlation between these 2 variables\n",
    "\n",
    "df_deltas3.plot(x='pat_ratio_84-02', y='inc_ratio_84-02', kind='scatter');"
   ]
  },
  {
   "cell_type": "code",
   "execution_count": 38,
   "metadata": {},
   "outputs": [
    {
     "data": {
      "text/html": [
       "<div>\n",
       "<style scoped>\n",
       "    .dataframe tbody tr th:only-of-type {\n",
       "        vertical-align: middle;\n",
       "    }\n",
       "\n",
       "    .dataframe tbody tr th {\n",
       "        vertical-align: top;\n",
       "    }\n",
       "\n",
       "    .dataframe thead th {\n",
       "        text-align: right;\n",
       "    }\n",
       "</style>\n",
       "<table border=\"1\" class=\"dataframe\">\n",
       "  <thead>\n",
       "    <tr style=\"text-align: right;\">\n",
       "      <th></th>\n",
       "      <th>country</th>\n",
       "      <th>delta_edu</th>\n",
       "      <th>edu_ratio_84-02</th>\n",
       "      <th>delta_inc</th>\n",
       "      <th>inc_ratio_84-02</th>\n",
       "      <th>pat_ratio_84-02</th>\n",
       "    </tr>\n",
       "  </thead>\n",
       "  <tbody>\n",
       "    <tr>\n",
       "      <th>23</th>\n",
       "      <td>Mongolia</td>\n",
       "      <td>4.50</td>\n",
       "      <td>1.312500</td>\n",
       "      <td>5670</td>\n",
       "      <td>1.509202</td>\n",
       "      <td>34487.704918</td>\n",
       "    </tr>\n",
       "    <tr>\n",
       "      <th>11</th>\n",
       "      <td>Ghana</td>\n",
       "      <td>4.40</td>\n",
       "      <td>1.608696</td>\n",
       "      <td>450</td>\n",
       "      <td>1.362573</td>\n",
       "      <td>7293.467337</td>\n",
       "    </tr>\n",
       "    <tr>\n",
       "      <th>21</th>\n",
       "      <td>Malawi</td>\n",
       "      <td>3.30</td>\n",
       "      <td>1.744186</td>\n",
       "      <td>376</td>\n",
       "      <td>0.962333</td>\n",
       "      <td>3914.423077</td>\n",
       "    </tr>\n",
       "    <tr>\n",
       "      <th>36</th>\n",
       "      <td>Uganda</td>\n",
       "      <td>3.45</td>\n",
       "      <td>1.660000</td>\n",
       "      <td>410</td>\n",
       "      <td>1.544715</td>\n",
       "      <td>3492.773763</td>\n",
       "    </tr>\n",
       "    <tr>\n",
       "      <th>39</th>\n",
       "      <td>Zambia</td>\n",
       "      <td>4.30</td>\n",
       "      <td>1.626866</td>\n",
       "      <td>-760</td>\n",
       "      <td>0.832700</td>\n",
       "      <td>1214.414414</td>\n",
       "    </tr>\n",
       "    <tr>\n",
       "      <th>19</th>\n",
       "      <td>Kenya</td>\n",
       "      <td>5.10</td>\n",
       "      <td>1.836066</td>\n",
       "      <td>400</td>\n",
       "      <td>0.981395</td>\n",
       "      <td>830.584634</td>\n",
       "    </tr>\n",
       "    <tr>\n",
       "      <th>32</th>\n",
       "      <td>Sri Lanka</td>\n",
       "      <td>5.10</td>\n",
       "      <td>1.383333</td>\n",
       "      <td>5800</td>\n",
       "      <td>1.770440</td>\n",
       "      <td>800.267350</td>\n",
       "    </tr>\n",
       "    <tr>\n",
       "      <th>5</th>\n",
       "      <td>Bulgaria</td>\n",
       "      <td>5.10</td>\n",
       "      <td>1.251397</td>\n",
       "      <td>7250</td>\n",
       "      <td>0.962617</td>\n",
       "      <td>592.381128</td>\n",
       "    </tr>\n",
       "    <tr>\n",
       "      <th>40</th>\n",
       "      <td>Zimbabwe</td>\n",
       "      <td>5.35</td>\n",
       "      <td>1.662338</td>\n",
       "      <td>-1270</td>\n",
       "      <td>0.974790</td>\n",
       "      <td>527.829333</td>\n",
       "    </tr>\n",
       "    <tr>\n",
       "      <th>7</th>\n",
       "      <td>Cuba</td>\n",
       "      <td>4.90</td>\n",
       "      <td>1.306122</td>\n",
       "      <td>8740</td>\n",
       "      <td>0.827586</td>\n",
       "      <td>375.167673</td>\n",
       "    </tr>\n",
       "  </tbody>\n",
       "</table>\n",
       "</div>"
      ],
      "text/plain": [
       "      country  delta_edu  edu_ratio_84-02  delta_inc  inc_ratio_84-02  \\\n",
       "23   Mongolia       4.50         1.312500       5670         1.509202   \n",
       "11      Ghana       4.40         1.608696        450         1.362573   \n",
       "21     Malawi       3.30         1.744186        376         0.962333   \n",
       "36     Uganda       3.45         1.660000        410         1.544715   \n",
       "39     Zambia       4.30         1.626866       -760         0.832700   \n",
       "19      Kenya       5.10         1.836066        400         0.981395   \n",
       "32  Sri Lanka       5.10         1.383333       5800         1.770440   \n",
       "5    Bulgaria       5.10         1.251397       7250         0.962617   \n",
       "40   Zimbabwe       5.35         1.662338      -1270         0.974790   \n",
       "7        Cuba       4.90         1.306122       8740         0.827586   \n",
       "\n",
       "    pat_ratio_84-02  \n",
       "23     34487.704918  \n",
       "11      7293.467337  \n",
       "21      3914.423077  \n",
       "36      3492.773763  \n",
       "39      1214.414414  \n",
       "19       830.584634  \n",
       "32       800.267350  \n",
       "5        592.381128  \n",
       "40       527.829333  \n",
       "7        375.167673  "
      ]
     },
     "execution_count": 38,
     "metadata": {},
     "output_type": "execute_result"
    }
   ],
   "source": [
    "# I'm going to delete the outliers for pat_ratio\n",
    "df_deltas3.sort_values(by=['pat_ratio_84-02'], ascending=False).head(10)"
   ]
  },
  {
   "cell_type": "code",
   "execution_count": 39,
   "metadata": {},
   "outputs": [
    {
     "data": {
      "image/png": "[encoded data removed]",
      "text/plain": [
       "<Figure size 432x288 with 1 Axes>"
      ]
     },
     "metadata": {},
     "output_type": "display_data"
    }
   ],
   "source": [
    "df_deltas4=df_deltas3.drop([23,11,21,36]) # remove first 4 outliers\n",
    "df_deltas4.plot(x='pat_ratio_84-02', y='inc_ratio_84-02', kind='scatter');"
   ]
  },
  {
   "cell_type": "code",
   "execution_count": 40,
   "metadata": {},
   "outputs": [
    {
     "data": {
      "text/plain": [
       "-0.27640250554143314"
      ]
     },
     "execution_count": 40,
     "metadata": {},
     "output_type": "execute_result"
    }
   ],
   "source": [
    "df_deltas4['pat_ratio_84-02'].corr(df_deltas4['inc_ratio_84-02'])"
   ]
  },
  {
   "cell_type": "markdown",
   "metadata": {},
   "source": [
    "### Results: Slight negative correlation (-0.27) between number of patent applications and income, which contraddicts my theory at point 2) of the introduction, showing that apparently a high number of patent applications doesn't necessarily lead to an increase in the income for that country"
   ]
  },
  {
   "cell_type": "code",
   "execution_count": null,
   "metadata": {},
   "outputs": [],
   "source": []
  },
  {
   "cell_type": "markdown",
   "metadata": {},
   "source": [
    "## Research Question 3\n",
    "### Here following we are going to analyze the theory number 3) , which is investigating the relationship between number of patent applications and education, to confirm that the bigger is the increase in the education in a coutry, the bigger  should be the increase of patent applications, as bigger knowledge helps in generating innovative ideas   "
   ]
  },
  {
   "cell_type": "code",
   "execution_count": 41,
   "metadata": {},
   "outputs": [],
   "source": [
    "# Here we are going to analyze the relationship between number of patents and education, \n",
    "# to confirm the theory that the bigger is the increase in the education, the bigger \n",
    "# the increase of applications for patents in a coutry, as bigger knowledge helps in \n",
    "# creating innovative ideas   "
   ]
  },
  {
   "cell_type": "code",
   "execution_count": 42,
   "metadata": {},
   "outputs": [
    {
     "data": {
      "image/png": "[encoded data removed]",
      "text/plain": [
       "<Figure size 432x288 with 1 Axes>"
      ]
     },
     "metadata": {},
     "output_type": "display_data"
    }
   ],
   "source": [
    "df_deltas4.plot(x='edu_ratio_84-02', y='pat_ratio_84-02', kind='scatter');"
   ]
  },
  {
   "cell_type": "code",
   "execution_count": 43,
   "metadata": {},
   "outputs": [
    {
     "data": {
      "text/plain": [
       "0.41201957696436226"
      ]
     },
     "execution_count": 43,
     "metadata": {},
     "output_type": "execute_result"
    }
   ],
   "source": [
    "df_deltas4['pat_ratio_84-02'].corr(df_deltas4['edu_ratio_84-02'])"
   ]
  },
  {
   "cell_type": "markdown",
   "metadata": {},
   "source": [
    "### Results: Positive correlation (0.41) between education and number of patent applications, which confirms my theory at point 3) of the introduction, stating that the education impacts positively the ability of generating innovative ideas"
   ]
  },
  {
   "cell_type": "code",
   "execution_count": null,
   "metadata": {},
   "outputs": [],
   "source": []
  },
  {
   "cell_type": "markdown",
   "metadata": {},
   "source": [
    "## Now we are going to wrangle the 'sector' variable"
   ]
  },
  {
   "cell_type": "code",
   "execution_count": 89,
   "metadata": {},
   "outputs": [],
   "source": [
    "# import the 3 datasets about sector % by country, over time\n",
    "\n",
    "agri = pd.read_csv('agriculture_workers_percent_of_employment.csv')\n",
    "indu = pd.read_csv('industry_workers_percent_of_employment.csv')\n",
    "serv = pd.read_csv('service_workers_percent_of_employment.csv')"
   ]
  },
  {
   "cell_type": "markdown",
   "metadata": {},
   "source": [
    "#### Let's take a quick look at the datasets"
   ]
  },
  {
   "cell_type": "code",
   "execution_count": 90,
   "metadata": {},
   "outputs": [
    {
     "data": {
      "text/html": [
       "<div>\n",
       "<style scoped>\n",
       "    .dataframe tbody tr th:only-of-type {\n",
       "        vertical-align: middle;\n",
       "    }\n",
       "\n",
       "    .dataframe tbody tr th {\n",
       "        vertical-align: top;\n",
       "    }\n",
       "\n",
       "    .dataframe thead th {\n",
       "        text-align: right;\n",
       "    }\n",
       "</style>\n",
       "<table border=\"1\" class=\"dataframe\">\n",
       "  <thead>\n",
       "    <tr style=\"text-align: right;\">\n",
       "      <th></th>\n",
       "      <th>country</th>\n",
       "      <th>1970</th>\n",
       "      <th>1971</th>\n",
       "      <th>1972</th>\n",
       "      <th>1973</th>\n",
       "      <th>1974</th>\n",
       "      <th>1975</th>\n",
       "      <th>1976</th>\n",
       "      <th>1977</th>\n",
       "      <th>1978</th>\n",
       "      <th>...</th>\n",
       "      <th>2008</th>\n",
       "      <th>2009</th>\n",
       "      <th>2010</th>\n",
       "      <th>2011</th>\n",
       "      <th>2012</th>\n",
       "      <th>2013</th>\n",
       "      <th>2014</th>\n",
       "      <th>2015</th>\n",
       "      <th>2016</th>\n",
       "      <th>2017</th>\n",
       "    </tr>\n",
       "  </thead>\n",
       "  <tbody>\n",
       "    <tr>\n",
       "      <th>0</th>\n",
       "      <td>Afghanistan</td>\n",
       "      <td>NaN</td>\n",
       "      <td>NaN</td>\n",
       "      <td>NaN</td>\n",
       "      <td>NaN</td>\n",
       "      <td>NaN</td>\n",
       "      <td>NaN</td>\n",
       "      <td>NaN</td>\n",
       "      <td>NaN</td>\n",
       "      <td>NaN</td>\n",
       "      <td>...</td>\n",
       "      <td>59.1</td>\n",
       "      <td>NaN</td>\n",
       "      <td>NaN</td>\n",
       "      <td>NaN</td>\n",
       "      <td>38.6</td>\n",
       "      <td>NaN</td>\n",
       "      <td>NaN</td>\n",
       "      <td>NaN</td>\n",
       "      <td>NaN</td>\n",
       "      <td>NaN</td>\n",
       "    </tr>\n",
       "    <tr>\n",
       "      <th>1</th>\n",
       "      <td>Albania</td>\n",
       "      <td>NaN</td>\n",
       "      <td>NaN</td>\n",
       "      <td>NaN</td>\n",
       "      <td>NaN</td>\n",
       "      <td>NaN</td>\n",
       "      <td>NaN</td>\n",
       "      <td>NaN</td>\n",
       "      <td>NaN</td>\n",
       "      <td>NaN</td>\n",
       "      <td>...</td>\n",
       "      <td>44.6</td>\n",
       "      <td>44.0</td>\n",
       "      <td>42.1</td>\n",
       "      <td>45.4</td>\n",
       "      <td>46.0</td>\n",
       "      <td>44.0</td>\n",
       "      <td>42.7</td>\n",
       "      <td>41.3</td>\n",
       "      <td>NaN</td>\n",
       "      <td>NaN</td>\n",
       "    </tr>\n",
       "  </tbody>\n",
       "</table>\n",
       "<p>2 rows × 49 columns</p>\n",
       "</div>"
      ],
      "text/plain": [
       "       country  1970  1971  1972  1973  1974  1975  1976  1977  1978  ...   \\\n",
       "0  Afghanistan   NaN   NaN   NaN   NaN   NaN   NaN   NaN   NaN   NaN  ...    \n",
       "1      Albania   NaN   NaN   NaN   NaN   NaN   NaN   NaN   NaN   NaN  ...    \n",
       "\n",
       "   2008  2009  2010  2011  2012  2013  2014  2015  2016  2017  \n",
       "0  59.1   NaN   NaN   NaN  38.6   NaN   NaN   NaN   NaN   NaN  \n",
       "1  44.6  44.0  42.1  45.4  46.0  44.0  42.7  41.3   NaN   NaN  \n",
       "\n",
       "[2 rows x 49 columns]"
      ]
     },
     "execution_count": 90,
     "metadata": {},
     "output_type": "execute_result"
    }
   ],
   "source": [
    "agri.head(2)"
   ]
  },
  {
   "cell_type": "code",
   "execution_count": 91,
   "metadata": {},
   "outputs": [
    {
     "name": "stdout",
     "output_type": "stream",
     "text": [
      "<class 'pandas.core.frame.DataFrame'>\n",
      "RangeIndex: 176 entries, 0 to 175\n",
      "Data columns (total 49 columns):\n",
      "country    176 non-null object\n",
      "1970       24 non-null float64\n",
      "1971       25 non-null float64\n",
      "1972       26 non-null float64\n",
      "1973       32 non-null float64\n",
      "1974       34 non-null float64\n",
      "1975       41 non-null float64\n",
      "1976       41 non-null float64\n",
      "1977       42 non-null float64\n",
      "1978       44 non-null float64\n",
      "1979       44 non-null float64\n",
      "1980       43 non-null float64\n",
      "1981       48 non-null float64\n",
      "1982       53 non-null float64\n",
      "1983       52 non-null float64\n",
      "1984       48 non-null float64\n",
      "1985       49 non-null float64\n",
      "1986       51 non-null float64\n",
      "1987       48 non-null float64\n",
      "1988       49 non-null float64\n",
      "1989       57 non-null float64\n",
      "1990       65 non-null float64\n",
      "1991       70 non-null float64\n",
      "1992       75 non-null float64\n",
      "1993       80 non-null float64\n",
      "1994       82 non-null float64\n",
      "1995       84 non-null float64\n",
      "1996       88 non-null float64\n",
      "1997       92 non-null float64\n",
      "1998       91 non-null float64\n",
      "1999       94 non-null float64\n",
      "2000       94 non-null float64\n",
      "2001       99 non-null float64\n",
      "2002       94 non-null float64\n",
      "2003       103 non-null float64\n",
      "2004       105 non-null float64\n",
      "2005       109 non-null float64\n",
      "2006       106 non-null float64\n",
      "2007       99 non-null float64\n",
      "2008       104 non-null float64\n",
      "2009       98 non-null float64\n",
      "2010       102 non-null float64\n",
      "2011       102 non-null float64\n",
      "2012       105 non-null float64\n",
      "2013       101 non-null float64\n",
      "2014       107 non-null float64\n",
      "2015       101 non-null float64\n",
      "2016       99 non-null float64\n",
      "2017       79 non-null float64\n",
      "dtypes: float64(48), object(1)\n",
      "memory usage: 67.5+ KB\n"
     ]
    }
   ],
   "source": [
    "agri.info()"
   ]
  },
  {
   "cell_type": "code",
   "execution_count": 92,
   "metadata": {},
   "outputs": [
    {
     "data": {
      "text/html": [
       "<div>\n",
       "<style scoped>\n",
       "    .dataframe tbody tr th:only-of-type {\n",
       "        vertical-align: middle;\n",
       "    }\n",
       "\n",
       "    .dataframe tbody tr th {\n",
       "        vertical-align: top;\n",
       "    }\n",
       "\n",
       "    .dataframe thead th {\n",
       "        text-align: right;\n",
       "    }\n",
       "</style>\n",
       "<table border=\"1\" class=\"dataframe\">\n",
       "  <thead>\n",
       "    <tr style=\"text-align: right;\">\n",
       "      <th></th>\n",
       "      <th>country</th>\n",
       "      <th>1970</th>\n",
       "      <th>1971</th>\n",
       "      <th>1972</th>\n",
       "      <th>1973</th>\n",
       "      <th>1974</th>\n",
       "      <th>1975</th>\n",
       "      <th>1976</th>\n",
       "      <th>1977</th>\n",
       "      <th>1978</th>\n",
       "      <th>...</th>\n",
       "      <th>2008</th>\n",
       "      <th>2009</th>\n",
       "      <th>2010</th>\n",
       "      <th>2011</th>\n",
       "      <th>2012</th>\n",
       "      <th>2013</th>\n",
       "      <th>2014</th>\n",
       "      <th>2015</th>\n",
       "      <th>2016</th>\n",
       "      <th>2017</th>\n",
       "    </tr>\n",
       "  </thead>\n",
       "  <tbody>\n",
       "    <tr>\n",
       "      <th>0</th>\n",
       "      <td>Afghanistan</td>\n",
       "      <td>NaN</td>\n",
       "      <td>NaN</td>\n",
       "      <td>NaN</td>\n",
       "      <td>NaN</td>\n",
       "      <td>NaN</td>\n",
       "      <td>NaN</td>\n",
       "      <td>NaN</td>\n",
       "      <td>NaN</td>\n",
       "      <td>NaN</td>\n",
       "      <td>...</td>\n",
       "      <td>12.4</td>\n",
       "      <td>NaN</td>\n",
       "      <td>NaN</td>\n",
       "      <td>NaN</td>\n",
       "      <td>16.6</td>\n",
       "      <td>NaN</td>\n",
       "      <td>NaN</td>\n",
       "      <td>NaN</td>\n",
       "      <td>NaN</td>\n",
       "      <td>NaN</td>\n",
       "    </tr>\n",
       "    <tr>\n",
       "      <th>1</th>\n",
       "      <td>Albania</td>\n",
       "      <td>NaN</td>\n",
       "      <td>NaN</td>\n",
       "      <td>NaN</td>\n",
       "      <td>NaN</td>\n",
       "      <td>NaN</td>\n",
       "      <td>NaN</td>\n",
       "      <td>NaN</td>\n",
       "      <td>NaN</td>\n",
       "      <td>NaN</td>\n",
       "      <td>...</td>\n",
       "      <td>17.8</td>\n",
       "      <td>19.9</td>\n",
       "      <td>20.6</td>\n",
       "      <td>18.9</td>\n",
       "      <td>17.3</td>\n",
       "      <td>16.8</td>\n",
       "      <td>17.4</td>\n",
       "      <td>18.6</td>\n",
       "      <td>NaN</td>\n",
       "      <td>NaN</td>\n",
       "    </tr>\n",
       "  </tbody>\n",
       "</table>\n",
       "<p>2 rows × 49 columns</p>\n",
       "</div>"
      ],
      "text/plain": [
       "       country  1970  1971  1972  1973  1974  1975  1976  1977  1978  ...   \\\n",
       "0  Afghanistan   NaN   NaN   NaN   NaN   NaN   NaN   NaN   NaN   NaN  ...    \n",
       "1      Albania   NaN   NaN   NaN   NaN   NaN   NaN   NaN   NaN   NaN  ...    \n",
       "\n",
       "   2008  2009  2010  2011  2012  2013  2014  2015  2016  2017  \n",
       "0  12.4   NaN   NaN   NaN  16.6   NaN   NaN   NaN   NaN   NaN  \n",
       "1  17.8  19.9  20.6  18.9  17.3  16.8  17.4  18.6   NaN   NaN  \n",
       "\n",
       "[2 rows x 49 columns]"
      ]
     },
     "execution_count": 92,
     "metadata": {},
     "output_type": "execute_result"
    }
   ],
   "source": [
    "indu.head(2)"
   ]
  },
  {
   "cell_type": "code",
   "execution_count": 93,
   "metadata": {},
   "outputs": [
    {
     "data": {
      "text/html": [
       "<div>\n",
       "<style scoped>\n",
       "    .dataframe tbody tr th:only-of-type {\n",
       "        vertical-align: middle;\n",
       "    }\n",
       "\n",
       "    .dataframe tbody tr th {\n",
       "        vertical-align: top;\n",
       "    }\n",
       "\n",
       "    .dataframe thead th {\n",
       "        text-align: right;\n",
       "    }\n",
       "</style>\n",
       "<table border=\"1\" class=\"dataframe\">\n",
       "  <thead>\n",
       "    <tr style=\"text-align: right;\">\n",
       "      <th></th>\n",
       "      <th>country</th>\n",
       "      <th>1970</th>\n",
       "      <th>1971</th>\n",
       "      <th>1972</th>\n",
       "      <th>1973</th>\n",
       "      <th>1974</th>\n",
       "      <th>1975</th>\n",
       "      <th>1976</th>\n",
       "      <th>1977</th>\n",
       "      <th>1978</th>\n",
       "      <th>...</th>\n",
       "      <th>2008</th>\n",
       "      <th>2009</th>\n",
       "      <th>2010</th>\n",
       "      <th>2011</th>\n",
       "      <th>2012</th>\n",
       "      <th>2013</th>\n",
       "      <th>2014</th>\n",
       "      <th>2015</th>\n",
       "      <th>2016</th>\n",
       "      <th>2017</th>\n",
       "    </tr>\n",
       "  </thead>\n",
       "  <tbody>\n",
       "    <tr>\n",
       "      <th>0</th>\n",
       "      <td>Afghanistan</td>\n",
       "      <td>NaN</td>\n",
       "      <td>NaN</td>\n",
       "      <td>NaN</td>\n",
       "      <td>NaN</td>\n",
       "      <td>NaN</td>\n",
       "      <td>NaN</td>\n",
       "      <td>NaN</td>\n",
       "      <td>NaN</td>\n",
       "      <td>NaN</td>\n",
       "      <td>...</td>\n",
       "      <td>28.1</td>\n",
       "      <td>NaN</td>\n",
       "      <td>NaN</td>\n",
       "      <td>NaN</td>\n",
       "      <td>43.6</td>\n",
       "      <td>NaN</td>\n",
       "      <td>NaN</td>\n",
       "      <td>NaN</td>\n",
       "      <td>NaN</td>\n",
       "      <td>NaN</td>\n",
       "    </tr>\n",
       "    <tr>\n",
       "      <th>1</th>\n",
       "      <td>Albania</td>\n",
       "      <td>NaN</td>\n",
       "      <td>NaN</td>\n",
       "      <td>NaN</td>\n",
       "      <td>NaN</td>\n",
       "      <td>NaN</td>\n",
       "      <td>NaN</td>\n",
       "      <td>NaN</td>\n",
       "      <td>NaN</td>\n",
       "      <td>NaN</td>\n",
       "      <td>...</td>\n",
       "      <td>37.6</td>\n",
       "      <td>36.0</td>\n",
       "      <td>37.3</td>\n",
       "      <td>35.8</td>\n",
       "      <td>36.6</td>\n",
       "      <td>38.8</td>\n",
       "      <td>39.4</td>\n",
       "      <td>39.9</td>\n",
       "      <td>NaN</td>\n",
       "      <td>NaN</td>\n",
       "    </tr>\n",
       "  </tbody>\n",
       "</table>\n",
       "<p>2 rows × 49 columns</p>\n",
       "</div>"
      ],
      "text/plain": [
       "       country  1970  1971  1972  1973  1974  1975  1976  1977  1978  ...   \\\n",
       "0  Afghanistan   NaN   NaN   NaN   NaN   NaN   NaN   NaN   NaN   NaN  ...    \n",
       "1      Albania   NaN   NaN   NaN   NaN   NaN   NaN   NaN   NaN   NaN  ...    \n",
       "\n",
       "   2008  2009  2010  2011  2012  2013  2014  2015  2016  2017  \n",
       "0  28.1   NaN   NaN   NaN  43.6   NaN   NaN   NaN   NaN   NaN  \n",
       "1  37.6  36.0  37.3  35.8  36.6  38.8  39.4  39.9   NaN   NaN  \n",
       "\n",
       "[2 rows x 49 columns]"
      ]
     },
     "execution_count": 93,
     "metadata": {},
     "output_type": "execute_result"
    }
   ],
   "source": [
    "serv.head(2)"
   ]
  },
  {
   "cell_type": "markdown",
   "metadata": {},
   "source": [
    "#### As we see many missing values, I think it would be a good idea, instead of to drop any row with 1 or more missing values, to replace them with the mean of each row. That is what I'm going to do here below"
   ]
  },
  {
   "cell_type": "code",
   "execution_count": 94,
   "metadata": {},
   "outputs": [
    {
     "data": {
      "text/html": [
       "<div>\n",
       "<style scoped>\n",
       "    .dataframe tbody tr th:only-of-type {\n",
       "        vertical-align: middle;\n",
       "    }\n",
       "\n",
       "    .dataframe tbody tr th {\n",
       "        vertical-align: top;\n",
       "    }\n",
       "\n",
       "    .dataframe thead th {\n",
       "        text-align: right;\n",
       "    }\n",
       "</style>\n",
       "<table border=\"1\" class=\"dataframe\">\n",
       "  <thead>\n",
       "    <tr style=\"text-align: right;\">\n",
       "      <th></th>\n",
       "      <th>country</th>\n",
       "      <th>1970</th>\n",
       "      <th>1971</th>\n",
       "      <th>1972</th>\n",
       "      <th>1973</th>\n",
       "      <th>1974</th>\n",
       "      <th>1975</th>\n",
       "      <th>1976</th>\n",
       "      <th>1977</th>\n",
       "      <th>1978</th>\n",
       "      <th>...</th>\n",
       "      <th>2008</th>\n",
       "      <th>2009</th>\n",
       "      <th>2010</th>\n",
       "      <th>2011</th>\n",
       "      <th>2012</th>\n",
       "      <th>2013</th>\n",
       "      <th>2014</th>\n",
       "      <th>2015</th>\n",
       "      <th>2016</th>\n",
       "      <th>2017</th>\n",
       "    </tr>\n",
       "  </thead>\n",
       "  <tbody>\n",
       "    <tr>\n",
       "      <th>0</th>\n",
       "      <td>Afghanistan</td>\n",
       "      <td>48.850000</td>\n",
       "      <td>48.850000</td>\n",
       "      <td>48.850000</td>\n",
       "      <td>48.850000</td>\n",
       "      <td>48.850000</td>\n",
       "      <td>48.850000</td>\n",
       "      <td>48.850000</td>\n",
       "      <td>48.850000</td>\n",
       "      <td>48.850000</td>\n",
       "      <td>...</td>\n",
       "      <td>59.1</td>\n",
       "      <td>48.85</td>\n",
       "      <td>48.85</td>\n",
       "      <td>48.85</td>\n",
       "      <td>38.6</td>\n",
       "      <td>48.85</td>\n",
       "      <td>48.85</td>\n",
       "      <td>48.85</td>\n",
       "      <td>48.850000</td>\n",
       "      <td>48.850000</td>\n",
       "    </tr>\n",
       "    <tr>\n",
       "      <th>1</th>\n",
       "      <td>Albania</td>\n",
       "      <td>56.363636</td>\n",
       "      <td>56.363636</td>\n",
       "      <td>56.363636</td>\n",
       "      <td>56.363636</td>\n",
       "      <td>56.363636</td>\n",
       "      <td>56.363636</td>\n",
       "      <td>56.363636</td>\n",
       "      <td>56.363636</td>\n",
       "      <td>56.363636</td>\n",
       "      <td>...</td>\n",
       "      <td>44.6</td>\n",
       "      <td>44.00</td>\n",
       "      <td>42.10</td>\n",
       "      <td>45.40</td>\n",
       "      <td>46.0</td>\n",
       "      <td>44.00</td>\n",
       "      <td>42.70</td>\n",
       "      <td>41.30</td>\n",
       "      <td>56.363636</td>\n",
       "      <td>56.363636</td>\n",
       "    </tr>\n",
       "  </tbody>\n",
       "</table>\n",
       "<p>2 rows × 49 columns</p>\n",
       "</div>"
      ],
      "text/plain": [
       "       country       1970       1971       1972       1973       1974  \\\n",
       "0  Afghanistan  48.850000  48.850000  48.850000  48.850000  48.850000   \n",
       "1      Albania  56.363636  56.363636  56.363636  56.363636  56.363636   \n",
       "\n",
       "        1975       1976       1977       1978    ...      2008   2009   2010  \\\n",
       "0  48.850000  48.850000  48.850000  48.850000    ...      59.1  48.85  48.85   \n",
       "1  56.363636  56.363636  56.363636  56.363636    ...      44.6  44.00  42.10   \n",
       "\n",
       "    2011  2012   2013   2014   2015       2016       2017  \n",
       "0  48.85  38.6  48.85  48.85  48.85  48.850000  48.850000  \n",
       "1  45.40  46.0  44.00  42.70  41.30  56.363636  56.363636  \n",
       "\n",
       "[2 rows x 49 columns]"
      ]
     },
     "execution_count": 94,
     "metadata": {},
     "output_type": "execute_result"
    }
   ],
   "source": [
    "m = agri.mean(axis=1)\n",
    "for i, col in enumerate(agri):\n",
    "    agri.iloc[:, i] = agri.iloc[:, i].fillna(m)\n",
    "agri.head(2)"
   ]
  },
  {
   "cell_type": "code",
   "execution_count": 95,
   "metadata": {},
   "outputs": [],
   "source": [
    "agri_70_17 = agri.mean()"
   ]
  },
  {
   "cell_type": "code",
   "execution_count": 96,
   "metadata": {},
   "outputs": [
    {
     "data": {
      "text/html": [
       "<div>\n",
       "<style scoped>\n",
       "    .dataframe tbody tr th:only-of-type {\n",
       "        vertical-align: middle;\n",
       "    }\n",
       "\n",
       "    .dataframe tbody tr th {\n",
       "        vertical-align: top;\n",
       "    }\n",
       "\n",
       "    .dataframe thead th {\n",
       "        text-align: right;\n",
       "    }\n",
       "</style>\n",
       "<table border=\"1\" class=\"dataframe\">\n",
       "  <thead>\n",
       "    <tr style=\"text-align: right;\">\n",
       "      <th></th>\n",
       "      <th>country</th>\n",
       "      <th>1970</th>\n",
       "      <th>1971</th>\n",
       "      <th>1972</th>\n",
       "      <th>1973</th>\n",
       "      <th>1974</th>\n",
       "      <th>1975</th>\n",
       "      <th>1976</th>\n",
       "      <th>1977</th>\n",
       "      <th>1978</th>\n",
       "      <th>...</th>\n",
       "      <th>2008</th>\n",
       "      <th>2009</th>\n",
       "      <th>2010</th>\n",
       "      <th>2011</th>\n",
       "      <th>2012</th>\n",
       "      <th>2013</th>\n",
       "      <th>2014</th>\n",
       "      <th>2015</th>\n",
       "      <th>2016</th>\n",
       "      <th>2017</th>\n",
       "    </tr>\n",
       "  </thead>\n",
       "  <tbody>\n",
       "    <tr>\n",
       "      <th>0</th>\n",
       "      <td>Afghanistan</td>\n",
       "      <td>14.500000</td>\n",
       "      <td>14.500000</td>\n",
       "      <td>14.500000</td>\n",
       "      <td>14.500000</td>\n",
       "      <td>14.500000</td>\n",
       "      <td>14.500000</td>\n",
       "      <td>14.500000</td>\n",
       "      <td>14.500000</td>\n",
       "      <td>14.500000</td>\n",
       "      <td>...</td>\n",
       "      <td>12.4</td>\n",
       "      <td>14.5</td>\n",
       "      <td>14.5</td>\n",
       "      <td>14.5</td>\n",
       "      <td>16.6</td>\n",
       "      <td>14.5</td>\n",
       "      <td>14.5</td>\n",
       "      <td>14.5</td>\n",
       "      <td>14.500000</td>\n",
       "      <td>14.500000</td>\n",
       "    </tr>\n",
       "    <tr>\n",
       "      <th>1</th>\n",
       "      <td>Albania</td>\n",
       "      <td>14.014545</td>\n",
       "      <td>14.014545</td>\n",
       "      <td>14.014545</td>\n",
       "      <td>14.014545</td>\n",
       "      <td>14.014545</td>\n",
       "      <td>14.014545</td>\n",
       "      <td>14.014545</td>\n",
       "      <td>14.014545</td>\n",
       "      <td>14.014545</td>\n",
       "      <td>...</td>\n",
       "      <td>17.8</td>\n",
       "      <td>19.9</td>\n",
       "      <td>20.6</td>\n",
       "      <td>18.9</td>\n",
       "      <td>17.3</td>\n",
       "      <td>16.8</td>\n",
       "      <td>17.4</td>\n",
       "      <td>18.6</td>\n",
       "      <td>14.014545</td>\n",
       "      <td>14.014545</td>\n",
       "    </tr>\n",
       "  </tbody>\n",
       "</table>\n",
       "<p>2 rows × 49 columns</p>\n",
       "</div>"
      ],
      "text/plain": [
       "       country       1970       1971       1972       1973       1974  \\\n",
       "0  Afghanistan  14.500000  14.500000  14.500000  14.500000  14.500000   \n",
       "1      Albania  14.014545  14.014545  14.014545  14.014545  14.014545   \n",
       "\n",
       "        1975       1976       1977       1978    ...      2008  2009  2010  \\\n",
       "0  14.500000  14.500000  14.500000  14.500000    ...      12.4  14.5  14.5   \n",
       "1  14.014545  14.014545  14.014545  14.014545    ...      17.8  19.9  20.6   \n",
       "\n",
       "   2011  2012  2013  2014  2015       2016       2017  \n",
       "0  14.5  16.6  14.5  14.5  14.5  14.500000  14.500000  \n",
       "1  18.9  17.3  16.8  17.4  18.6  14.014545  14.014545  \n",
       "\n",
       "[2 rows x 49 columns]"
      ]
     },
     "execution_count": 96,
     "metadata": {},
     "output_type": "execute_result"
    }
   ],
   "source": [
    "n = indu.mean(axis=1)\n",
    "for i, col in enumerate(indu):\n",
    "    indu.iloc[:, i] = indu.iloc[:, i].fillna(n)\n",
    "indu.head(2)"
   ]
  },
  {
   "cell_type": "code",
   "execution_count": 97,
   "metadata": {},
   "outputs": [],
   "source": [
    "indu_70_17 = indu.mean()"
   ]
  },
  {
   "cell_type": "code",
   "execution_count": 98,
   "metadata": {},
   "outputs": [
    {
     "data": {
      "text/html": [
       "<div>\n",
       "<style scoped>\n",
       "    .dataframe tbody tr th:only-of-type {\n",
       "        vertical-align: middle;\n",
       "    }\n",
       "\n",
       "    .dataframe tbody tr th {\n",
       "        vertical-align: top;\n",
       "    }\n",
       "\n",
       "    .dataframe thead th {\n",
       "        text-align: right;\n",
       "    }\n",
       "</style>\n",
       "<table border=\"1\" class=\"dataframe\">\n",
       "  <thead>\n",
       "    <tr style=\"text-align: right;\">\n",
       "      <th></th>\n",
       "      <th>country</th>\n",
       "      <th>1970</th>\n",
       "      <th>1971</th>\n",
       "      <th>1972</th>\n",
       "      <th>1973</th>\n",
       "      <th>1974</th>\n",
       "      <th>1975</th>\n",
       "      <th>1976</th>\n",
       "      <th>1977</th>\n",
       "      <th>1978</th>\n",
       "      <th>...</th>\n",
       "      <th>2008</th>\n",
       "      <th>2009</th>\n",
       "      <th>2010</th>\n",
       "      <th>2011</th>\n",
       "      <th>2012</th>\n",
       "      <th>2013</th>\n",
       "      <th>2014</th>\n",
       "      <th>2015</th>\n",
       "      <th>2016</th>\n",
       "      <th>2017</th>\n",
       "    </tr>\n",
       "  </thead>\n",
       "  <tbody>\n",
       "    <tr>\n",
       "      <th>0</th>\n",
       "      <td>Afghanistan</td>\n",
       "      <td>35.850000</td>\n",
       "      <td>35.850000</td>\n",
       "      <td>35.850000</td>\n",
       "      <td>35.850000</td>\n",
       "      <td>35.850000</td>\n",
       "      <td>35.850000</td>\n",
       "      <td>35.850000</td>\n",
       "      <td>35.850000</td>\n",
       "      <td>35.850000</td>\n",
       "      <td>...</td>\n",
       "      <td>28.1</td>\n",
       "      <td>35.85</td>\n",
       "      <td>35.85</td>\n",
       "      <td>35.85</td>\n",
       "      <td>43.6</td>\n",
       "      <td>35.85</td>\n",
       "      <td>35.85</td>\n",
       "      <td>35.85</td>\n",
       "      <td>35.850000</td>\n",
       "      <td>35.850000</td>\n",
       "    </tr>\n",
       "    <tr>\n",
       "      <th>1</th>\n",
       "      <td>Albania</td>\n",
       "      <td>29.540909</td>\n",
       "      <td>29.540909</td>\n",
       "      <td>29.540909</td>\n",
       "      <td>29.540909</td>\n",
       "      <td>29.540909</td>\n",
       "      <td>29.540909</td>\n",
       "      <td>29.540909</td>\n",
       "      <td>29.540909</td>\n",
       "      <td>29.540909</td>\n",
       "      <td>...</td>\n",
       "      <td>37.6</td>\n",
       "      <td>36.00</td>\n",
       "      <td>37.30</td>\n",
       "      <td>35.80</td>\n",
       "      <td>36.6</td>\n",
       "      <td>38.80</td>\n",
       "      <td>39.40</td>\n",
       "      <td>39.90</td>\n",
       "      <td>29.540909</td>\n",
       "      <td>29.540909</td>\n",
       "    </tr>\n",
       "  </tbody>\n",
       "</table>\n",
       "<p>2 rows × 49 columns</p>\n",
       "</div>"
      ],
      "text/plain": [
       "       country       1970       1971       1972       1973       1974  \\\n",
       "0  Afghanistan  35.850000  35.850000  35.850000  35.850000  35.850000   \n",
       "1      Albania  29.540909  29.540909  29.540909  29.540909  29.540909   \n",
       "\n",
       "        1975       1976       1977       1978    ...      2008   2009   2010  \\\n",
       "0  35.850000  35.850000  35.850000  35.850000    ...      28.1  35.85  35.85   \n",
       "1  29.540909  29.540909  29.540909  29.540909    ...      37.6  36.00  37.30   \n",
       "\n",
       "    2011  2012   2013   2014   2015       2016       2017  \n",
       "0  35.85  43.6  35.85  35.85  35.85  35.850000  35.850000  \n",
       "1  35.80  36.6  38.80  39.40  39.90  29.540909  29.540909  \n",
       "\n",
       "[2 rows x 49 columns]"
      ]
     },
     "execution_count": 98,
     "metadata": {},
     "output_type": "execute_result"
    }
   ],
   "source": [
    "o = serv.mean(axis=1)\n",
    "for i, col in enumerate(serv):\n",
    "    serv.iloc[:, i] = serv.iloc[:, i].fillna(o)\n",
    "serv.head(2)"
   ]
  },
  {
   "cell_type": "code",
   "execution_count": 99,
   "metadata": {},
   "outputs": [],
   "source": [
    "serv_70_17 = serv.mean()"
   ]
  },
  {
   "cell_type": "markdown",
   "metadata": {},
   "source": [
    "####  I'm now going to adapt the 'income' dataset used previously, in order to match the time period of 'sector' dataframes"
   ]
  },
  {
   "cell_type": "code",
   "execution_count": 100,
   "metadata": {},
   "outputs": [],
   "source": [
    "avg_inc_70_17 = income.mean()['1970':'2017']"
   ]
  },
  {
   "cell_type": "markdown",
   "metadata": {},
   "source": [
    "## Research Question 4\n",
    "### Here following we are going to analyze the theory number 4) , which is investigating the relationship between different sectors and income, as a country being \"service-oriented\" should be a sign that its technology is advanced, as opposite as a country for which the main sector is \"agricultural\" or \"industrial\""
   ]
  },
  {
   "cell_type": "code",
   "execution_count": 101,
   "metadata": {},
   "outputs": [],
   "source": [
    "# Now that we have sector datasets with no missing values and the income dataset with natching time period,\n",
    "# we are going to see the correlations between each sector and the income"
   ]
  },
  {
   "cell_type": "code",
   "execution_count": 102,
   "metadata": {},
   "outputs": [
    {
     "data": {
      "image/png": "[encoded data removed]",
      "text/plain": [
       "<Figure size 432x288 with 1 Axes>"
      ]
     },
     "metadata": {},
     "output_type": "display_data"
    }
   ],
   "source": [
    "plt.scatter(x=agri_70_17,y= avg_inc_70_17);"
   ]
  },
  {
   "cell_type": "code",
   "execution_count": 104,
   "metadata": {},
   "outputs": [
    {
     "data": {
      "text/plain": [
       "-0.9075905440640887"
      ]
     },
     "execution_count": 104,
     "metadata": {},
     "output_type": "execute_result"
    }
   ],
   "source": [
    "agri_70_17.corr(avg_inc_70_17)"
   ]
  },
  {
   "cell_type": "code",
   "execution_count": 108,
   "metadata": {},
   "outputs": [
    {
     "data": {
      "image/png": "[encoded data removed]",
      "text/plain": [
       "<Figure size 432x288 with 1 Axes>"
      ]
     },
     "metadata": {},
     "output_type": "display_data"
    }
   ],
   "source": [
    "plt.scatter(x=indu_70_17,y= avg_inc_70_17);"
   ]
  },
  {
   "cell_type": "code",
   "execution_count": 109,
   "metadata": {},
   "outputs": [
    {
     "data": {
      "text/plain": [
       "-0.9177055532006038"
      ]
     },
     "execution_count": 109,
     "metadata": {},
     "output_type": "execute_result"
    }
   ],
   "source": [
    "indu_70_17.corr(avg_inc_70_17)"
   ]
  },
  {
   "cell_type": "code",
   "execution_count": 110,
   "metadata": {},
   "outputs": [
    {
     "data": {
      "image/png": "[encoded data removed]",
      "text/plain": [
       "<Figure size 432x288 with 1 Axes>"
      ]
     },
     "metadata": {},
     "output_type": "display_data"
    }
   ],
   "source": [
    "plt.scatter(x=serv_70_17,y= avg_inc_70_17);"
   ]
  },
  {
   "cell_type": "code",
   "execution_count": 111,
   "metadata": {},
   "outputs": [
    {
     "data": {
      "text/plain": [
       "0.948267598898907"
      ]
     },
     "execution_count": 111,
     "metadata": {},
     "output_type": "execute_result"
    }
   ],
   "source": [
    "serv_70_17.corr(avg_inc_70_17)"
   ]
  },
  {
   "cell_type": "markdown",
   "metadata": {},
   "source": [
    "### Results: Strong negative correlation (-0.91 and 0.92 respectively) between agricultural sector % vs income and industrial sector % vs income, in addition to a strong positive correlation between service sector % vs income, which seems to agree with the theory at point 4) "
   ]
  },
  {
   "cell_type": "code",
   "execution_count": null,
   "metadata": {},
   "outputs": [],
   "source": []
  },
  {
   "cell_type": "markdown",
   "metadata": {},
   "source": [
    "<a id='conclusions'></a>\n",
    "## Conclusions\n",
    "\n",
    ">### 1) Education has a slight positive impact on income, POTENTIALLY because as the more knowledgeable people of a specific country are, the more that country should be able to produce prosperity.\n",
    ">### 2) The number of patent applications in a country has a slight negative impact on its income. Using logic I expected a different result, also this inverse correlation is not a proof that my theory at point 2) was wrong, it's just an indication that doesn't support the theory.\n",
    ">### 3) Education has a positive impact in the number of patent applications, POTENTIALLY because a higher knowledge helps in generating innovative ideas.\n",
    ">### 4) There is a strong correlation between what the main sector is (agricolture, industry or services) and the income, POTENTIALLY because having a high % of workers in the services sectors mean a high level of technology, which could explain a higher income, and vice versa."
   ]
  },
  {
   "cell_type": "code",
   "execution_count": null,
   "metadata": {},
   "outputs": [],
   "source": []
  }
 ],
 "metadata": {
  "kernelspec": {
   "display_name": "Python 3",
   "language": "python",
   "name": "python3"
  },
  "language_info": {
   "codemirror_mode": {
    "name": "ipython",
    "version": 3
   },
   "file_extension": ".py",
   "mimetype": "text/x-python",
   "name": "python",
   "nbconvert_exporter": "python",
   "pygments_lexer": "ipython3",
   "version": "3.6.5"
  }
 },
 "nbformat": 4,
 "nbformat_minor": 2
}
